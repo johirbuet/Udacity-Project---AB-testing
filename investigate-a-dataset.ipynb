{
 "cells": [
  {
   "cell_type": "markdown",
   "metadata": {},
   "source": [
    "# Project: TMDb Dataset Investigation and Analysis\n",
    "\n",
    "## Table of Contents\n",
    "<ul>\n",
    "<li><a href=\"#intro\">Introduction</a></li>\n",
    "<li><a href=\"#wrangling\">Data Wrangling</a></li>\n",
    "<li><a href=\"#eda\">Exploratory Data Analysis</a></li>\n",
    "<li><a href=\"#conclusions\">Conclusions</a></li>\n",
    "</ul>"
   ]
  },
  {
   "cell_type": "markdown",
   "metadata": {},
   "source": [
    "<a id='intro'></a>\n",
    "## Introduction\n",
    "\n",
    "The dataset I will be investigating and analyzing is the TMDb movie dataset. This data contains information for over 10,000 movies including user ratings and revenue. As a movie buff, I am particularly intersted in discovering what correlations there are between a movies characteristics and it's overall success. \n",
    "\n",
    "For one, I would like to determine which genres produced the most critically acclaimed and financially successful movies year over year. For example, I'd like to determine if action movies have always historically been the highest grossing films, or if that is something that has only happened recently (i.e. last 10 years). Also, I would like to determine if a movies financial success is related to it's reviews or if movies that have poor reviews critically are still ones that have high earnings (i.e. a movie may not receive much critical acclaim but audiences still love it and go to see that movie in mass numbers).\n",
    "\n",
    "This dataset is particularly interesting to me as it shows not only the dollars earned per film at the time the film was released, but also represents budget and revenue of the film adjusted for inflation over time which will allow me to better compare the success of each film."
   ]
  },
  {
   "cell_type": "markdown",
   "metadata": {},
   "source": [
    "### Import Statements\n",
    "\n",
    "Below I will be importing the following libraries for use in my anlaysis: \n",
    "\n",
    "- Matplotlib\n",
    "- NumPy\n",
    "- Pandas\n",
    "- pyplot (from matplotlib)\n",
    "- datetime"
   ]
  },
  {
   "cell_type": "code",
   "execution_count": 141,
   "metadata": {},
   "outputs": [],
   "source": [
    "#import pandas to easily access .csv dataset\n",
    "import pandas as pd\n",
    "#import numpy to more easily perform data analysis\n",
    "import numpy as np\n",
    "#import matplotlib inline to show graphs and charts in cells\n",
    "% matplotlib inline\n",
    "# importing datetime to work with string dates\n",
    "from datetime import datetime\n",
    "# import plt\n",
    "from matplotlib import pyplot as plt"
   ]
  },
  {
   "cell_type": "markdown",
   "metadata": {},
   "source": [
    "<a id='wrangling'></a>\n",
    "## Data Wrangling\n",
    "\n",
    "In the following section of the report I will load in my dataset using pandas and save it to the 'df' variable. Then I will determine if any columns will not be useful for my analysis and drop those from the investigation. From there I will determine if there are any missing values from relevant columns, update those values as necessary using tools like .mean to apply the average for all other non-null cells in that column. Following those steps, I will clean up and normalize any additional data as needed for columns identified as relevant to the analysis.\n",
    "\n",
    "### General Properties"
   ]
  },
  {
   "cell_type": "code",
   "execution_count": 62,
   "metadata": {},
   "outputs": [
    {
     "data": {
      "text/html": [
       "<div>\n",
       "<style scoped>\n",
       "    .dataframe tbody tr th:only-of-type {\n",
       "        vertical-align: middle;\n",
       "    }\n",
       "\n",
       "    .dataframe tbody tr th {\n",
       "        vertical-align: top;\n",
       "    }\n",
       "\n",
       "    .dataframe thead th {\n",
       "        text-align: right;\n",
       "    }\n",
       "</style>\n",
       "<table border=\"1\" class=\"dataframe\">\n",
       "  <thead>\n",
       "    <tr style=\"text-align: right;\">\n",
       "      <th></th>\n",
       "      <th>id</th>\n",
       "      <th>imdb_id</th>\n",
       "      <th>popularity</th>\n",
       "      <th>budget</th>\n",
       "      <th>revenue</th>\n",
       "      <th>original_title</th>\n",
       "      <th>cast</th>\n",
       "      <th>homepage</th>\n",
       "      <th>director</th>\n",
       "      <th>tagline</th>\n",
       "      <th>...</th>\n",
       "      <th>overview</th>\n",
       "      <th>runtime</th>\n",
       "      <th>genres</th>\n",
       "      <th>production_companies</th>\n",
       "      <th>release_date</th>\n",
       "      <th>vote_count</th>\n",
       "      <th>vote_average</th>\n",
       "      <th>release_year</th>\n",
       "      <th>budget_adj</th>\n",
       "      <th>revenue_adj</th>\n",
       "    </tr>\n",
       "  </thead>\n",
       "  <tbody>\n",
       "    <tr>\n",
       "      <th>0</th>\n",
       "      <td>135397</td>\n",
       "      <td>tt0369610</td>\n",
       "      <td>32.985763</td>\n",
       "      <td>150000000</td>\n",
       "      <td>1513528810</td>\n",
       "      <td>Jurassic World</td>\n",
       "      <td>Chris Pratt|Bryce Dallas Howard|Irrfan Khan|Vi...</td>\n",
       "      <td>http://www.jurassicworld.com/</td>\n",
       "      <td>Colin Trevorrow</td>\n",
       "      <td>The park is open.</td>\n",
       "      <td>...</td>\n",
       "      <td>Twenty-two years after the events of Jurassic ...</td>\n",
       "      <td>124</td>\n",
       "      <td>Action|Adventure|Science Fiction|Thriller</td>\n",
       "      <td>Universal Studios|Amblin Entertainment|Legenda...</td>\n",
       "      <td>6/9/15</td>\n",
       "      <td>5562</td>\n",
       "      <td>6.5</td>\n",
       "      <td>2015</td>\n",
       "      <td>1.379999e+08</td>\n",
       "      <td>1.392446e+09</td>\n",
       "    </tr>\n",
       "    <tr>\n",
       "      <th>1</th>\n",
       "      <td>76341</td>\n",
       "      <td>tt1392190</td>\n",
       "      <td>28.419936</td>\n",
       "      <td>150000000</td>\n",
       "      <td>378436354</td>\n",
       "      <td>Mad Max: Fury Road</td>\n",
       "      <td>Tom Hardy|Charlize Theron|Hugh Keays-Byrne|Nic...</td>\n",
       "      <td>http://www.madmaxmovie.com/</td>\n",
       "      <td>George Miller</td>\n",
       "      <td>What a Lovely Day.</td>\n",
       "      <td>...</td>\n",
       "      <td>An apocalyptic story set in the furthest reach...</td>\n",
       "      <td>120</td>\n",
       "      <td>Action|Adventure|Science Fiction|Thriller</td>\n",
       "      <td>Village Roadshow Pictures|Kennedy Miller Produ...</td>\n",
       "      <td>5/13/15</td>\n",
       "      <td>6185</td>\n",
       "      <td>7.1</td>\n",
       "      <td>2015</td>\n",
       "      <td>1.379999e+08</td>\n",
       "      <td>3.481613e+08</td>\n",
       "    </tr>\n",
       "    <tr>\n",
       "      <th>2</th>\n",
       "      <td>262500</td>\n",
       "      <td>tt2908446</td>\n",
       "      <td>13.112507</td>\n",
       "      <td>110000000</td>\n",
       "      <td>295238201</td>\n",
       "      <td>Insurgent</td>\n",
       "      <td>Shailene Woodley|Theo James|Kate Winslet|Ansel...</td>\n",
       "      <td>http://www.thedivergentseries.movie/#insurgent</td>\n",
       "      <td>Robert Schwentke</td>\n",
       "      <td>One Choice Can Destroy You</td>\n",
       "      <td>...</td>\n",
       "      <td>Beatrice Prior must confront her inner demons ...</td>\n",
       "      <td>119</td>\n",
       "      <td>Adventure|Science Fiction|Thriller</td>\n",
       "      <td>Summit Entertainment|Mandeville Films|Red Wago...</td>\n",
       "      <td>3/18/15</td>\n",
       "      <td>2480</td>\n",
       "      <td>6.3</td>\n",
       "      <td>2015</td>\n",
       "      <td>1.012000e+08</td>\n",
       "      <td>2.716190e+08</td>\n",
       "    </tr>\n",
       "    <tr>\n",
       "      <th>3</th>\n",
       "      <td>140607</td>\n",
       "      <td>tt2488496</td>\n",
       "      <td>11.173104</td>\n",
       "      <td>200000000</td>\n",
       "      <td>2068178225</td>\n",
       "      <td>Star Wars: The Force Awakens</td>\n",
       "      <td>Harrison Ford|Mark Hamill|Carrie Fisher|Adam D...</td>\n",
       "      <td>http://www.starwars.com/films/star-wars-episod...</td>\n",
       "      <td>J.J. Abrams</td>\n",
       "      <td>Every generation has a story.</td>\n",
       "      <td>...</td>\n",
       "      <td>Thirty years after defeating the Galactic Empi...</td>\n",
       "      <td>136</td>\n",
       "      <td>Action|Adventure|Science Fiction|Fantasy</td>\n",
       "      <td>Lucasfilm|Truenorth Productions|Bad Robot</td>\n",
       "      <td>12/15/15</td>\n",
       "      <td>5292</td>\n",
       "      <td>7.5</td>\n",
       "      <td>2015</td>\n",
       "      <td>1.839999e+08</td>\n",
       "      <td>1.902723e+09</td>\n",
       "    </tr>\n",
       "    <tr>\n",
       "      <th>4</th>\n",
       "      <td>168259</td>\n",
       "      <td>tt2820852</td>\n",
       "      <td>9.335014</td>\n",
       "      <td>190000000</td>\n",
       "      <td>1506249360</td>\n",
       "      <td>Furious 7</td>\n",
       "      <td>Vin Diesel|Paul Walker|Jason Statham|Michelle ...</td>\n",
       "      <td>http://www.furious7.com/</td>\n",
       "      <td>James Wan</td>\n",
       "      <td>Vengeance Hits Home</td>\n",
       "      <td>...</td>\n",
       "      <td>Deckard Shaw seeks revenge against Dominic Tor...</td>\n",
       "      <td>137</td>\n",
       "      <td>Action|Crime|Thriller</td>\n",
       "      <td>Universal Pictures|Original Film|Media Rights ...</td>\n",
       "      <td>4/1/15</td>\n",
       "      <td>2947</td>\n",
       "      <td>7.3</td>\n",
       "      <td>2015</td>\n",
       "      <td>1.747999e+08</td>\n",
       "      <td>1.385749e+09</td>\n",
       "    </tr>\n",
       "  </tbody>\n",
       "</table>\n",
       "<p>5 rows × 21 columns</p>\n",
       "</div>"
      ],
      "text/plain": [
       "       id    imdb_id  popularity     budget     revenue  \\\n",
       "0  135397  tt0369610   32.985763  150000000  1513528810   \n",
       "1   76341  tt1392190   28.419936  150000000   378436354   \n",
       "2  262500  tt2908446   13.112507  110000000   295238201   \n",
       "3  140607  tt2488496   11.173104  200000000  2068178225   \n",
       "4  168259  tt2820852    9.335014  190000000  1506249360   \n",
       "\n",
       "                 original_title  \\\n",
       "0                Jurassic World   \n",
       "1            Mad Max: Fury Road   \n",
       "2                     Insurgent   \n",
       "3  Star Wars: The Force Awakens   \n",
       "4                     Furious 7   \n",
       "\n",
       "                                                cast  \\\n",
       "0  Chris Pratt|Bryce Dallas Howard|Irrfan Khan|Vi...   \n",
       "1  Tom Hardy|Charlize Theron|Hugh Keays-Byrne|Nic...   \n",
       "2  Shailene Woodley|Theo James|Kate Winslet|Ansel...   \n",
       "3  Harrison Ford|Mark Hamill|Carrie Fisher|Adam D...   \n",
       "4  Vin Diesel|Paul Walker|Jason Statham|Michelle ...   \n",
       "\n",
       "                                            homepage          director  \\\n",
       "0                      http://www.jurassicworld.com/   Colin Trevorrow   \n",
       "1                        http://www.madmaxmovie.com/     George Miller   \n",
       "2     http://www.thedivergentseries.movie/#insurgent  Robert Schwentke   \n",
       "3  http://www.starwars.com/films/star-wars-episod...       J.J. Abrams   \n",
       "4                           http://www.furious7.com/         James Wan   \n",
       "\n",
       "                         tagline      ...       \\\n",
       "0              The park is open.      ...        \n",
       "1             What a Lovely Day.      ...        \n",
       "2     One Choice Can Destroy You      ...        \n",
       "3  Every generation has a story.      ...        \n",
       "4            Vengeance Hits Home      ...        \n",
       "\n",
       "                                            overview runtime  \\\n",
       "0  Twenty-two years after the events of Jurassic ...     124   \n",
       "1  An apocalyptic story set in the furthest reach...     120   \n",
       "2  Beatrice Prior must confront her inner demons ...     119   \n",
       "3  Thirty years after defeating the Galactic Empi...     136   \n",
       "4  Deckard Shaw seeks revenge against Dominic Tor...     137   \n",
       "\n",
       "                                      genres  \\\n",
       "0  Action|Adventure|Science Fiction|Thriller   \n",
       "1  Action|Adventure|Science Fiction|Thriller   \n",
       "2         Adventure|Science Fiction|Thriller   \n",
       "3   Action|Adventure|Science Fiction|Fantasy   \n",
       "4                      Action|Crime|Thriller   \n",
       "\n",
       "                                production_companies release_date vote_count  \\\n",
       "0  Universal Studios|Amblin Entertainment|Legenda...       6/9/15       5562   \n",
       "1  Village Roadshow Pictures|Kennedy Miller Produ...      5/13/15       6185   \n",
       "2  Summit Entertainment|Mandeville Films|Red Wago...      3/18/15       2480   \n",
       "3          Lucasfilm|Truenorth Productions|Bad Robot     12/15/15       5292   \n",
       "4  Universal Pictures|Original Film|Media Rights ...       4/1/15       2947   \n",
       "\n",
       "   vote_average  release_year    budget_adj   revenue_adj  \n",
       "0           6.5          2015  1.379999e+08  1.392446e+09  \n",
       "1           7.1          2015  1.379999e+08  3.481613e+08  \n",
       "2           6.3          2015  1.012000e+08  2.716190e+08  \n",
       "3           7.5          2015  1.839999e+08  1.902723e+09  \n",
       "4           7.3          2015  1.747999e+08  1.385749e+09  \n",
       "\n",
       "[5 rows x 21 columns]"
      ]
     },
     "execution_count": 62,
     "metadata": {},
     "output_type": "execute_result"
    }
   ],
   "source": [
    "#importing dataset as df\n",
    "df = pd.read_csv('tmdb-movies.csv')\n",
    "#check data to make sure it imported -view first 5 rows\n",
    "df.head()\n"
   ]
  },
  {
   "cell_type": "markdown",
   "metadata": {},
   "source": [
    "Great! Now that my data has been imported correctly, I will take a look at some of it's other characteristics. See the comments in each cell below for detail on the functions I will run next."
   ]
  },
  {
   "cell_type": "code",
   "execution_count": 63,
   "metadata": {},
   "outputs": [
    {
     "data": {
      "text/plain": [
       "(10866, 21)"
      ]
     },
     "execution_count": 63,
     "metadata": {},
     "output_type": "execute_result"
    }
   ],
   "source": [
    "# Now that the data has been imported I will use .shape to tell me how many rows/columns I am dealing with.\n",
    "df.shape"
   ]
  },
  {
   "cell_type": "code",
   "execution_count": 64,
   "metadata": {},
   "outputs": [
    {
     "name": "stdout",
     "output_type": "stream",
     "text": [
      "<class 'pandas.core.frame.DataFrame'>\n",
      "RangeIndex: 10866 entries, 0 to 10865\n",
      "Data columns (total 21 columns):\n",
      "id                      10866 non-null int64\n",
      "imdb_id                 10856 non-null object\n",
      "popularity              10866 non-null float64\n",
      "budget                  10866 non-null int64\n",
      "revenue                 10866 non-null int64\n",
      "original_title          10866 non-null object\n",
      "cast                    10790 non-null object\n",
      "homepage                2936 non-null object\n",
      "director                10822 non-null object\n",
      "tagline                 8042 non-null object\n",
      "keywords                9373 non-null object\n",
      "overview                10862 non-null object\n",
      "runtime                 10866 non-null int64\n",
      "genres                  10843 non-null object\n",
      "production_companies    9836 non-null object\n",
      "release_date            10866 non-null object\n",
      "vote_count              10866 non-null int64\n",
      "vote_average            10866 non-null float64\n",
      "release_year            10866 non-null int64\n",
      "budget_adj              10866 non-null float64\n",
      "revenue_adj             10866 non-null float64\n",
      "dtypes: float64(4), int64(6), object(11)\n",
      "memory usage: 1.7+ MB\n"
     ]
    }
   ],
   "source": [
    "#That's a lot of data! 10,866 rows with 21 columns is equal to 228,186 data points. \n",
    "# Now I want to take a look at all the column headers to see if there are any I don't need to perform my anlaysis.\n",
    "# I'm thinking I can at least drop the actor and webpage columns, maybe even some more!\n",
    "df.info()"
   ]
  },
  {
   "cell_type": "markdown",
   "metadata": {},
   "source": [
    "Ok, that's a lot of columns. Remember, I really want to anlayze information related to the year of release, revenue, budget, genre, and ratings. That means I won't need to use a lot of these columns such as id, imdb_id, cast, homepage, tagline, keywords, and production companies. In the next cell I'm going to drop all of those columns to make the dataset more useable for my needs. "
   ]
  },
  {
   "cell_type": "code",
   "execution_count": 65,
   "metadata": {},
   "outputs": [],
   "source": [
    "#droping columns I won't need\n",
    "df.drop(['id', 'imdb_id', 'cast', 'homepage', 'cast', 'tagline', 'keywords', 'production_companies', 'director'], axis=1, inplace=True)"
   ]
  },
  {
   "cell_type": "code",
   "execution_count": 66,
   "metadata": {},
   "outputs": [
    {
     "name": "stdout",
     "output_type": "stream",
     "text": [
      "<class 'pandas.core.frame.DataFrame'>\n",
      "RangeIndex: 10866 entries, 0 to 10865\n",
      "Data columns (total 13 columns):\n",
      "popularity        10866 non-null float64\n",
      "budget            10866 non-null int64\n",
      "revenue           10866 non-null int64\n",
      "original_title    10866 non-null object\n",
      "overview          10862 non-null object\n",
      "runtime           10866 non-null int64\n",
      "genres            10843 non-null object\n",
      "release_date      10866 non-null object\n",
      "vote_count        10866 non-null int64\n",
      "vote_average      10866 non-null float64\n",
      "release_year      10866 non-null int64\n",
      "budget_adj        10866 non-null float64\n",
      "revenue_adj       10866 non-null float64\n",
      "dtypes: float64(4), int64(5), object(4)\n",
      "memory usage: 1.1+ MB\n"
     ]
    }
   ],
   "source": [
    "#check to make sure columns were dropped\n",
    "df.info()"
   ]
  },
  {
   "cell_type": "code",
   "execution_count": 67,
   "metadata": {},
   "outputs": [
    {
     "name": "stdout",
     "output_type": "stream",
     "text": [
      "<class 'pandas.core.frame.DataFrame'>\n",
      "RangeIndex: 10866 entries, 0 to 10865\n",
      "Data columns (total 12 columns):\n",
      "popularity        10866 non-null float64\n",
      "budget            10866 non-null int64\n",
      "revenue           10866 non-null int64\n",
      "original_title    10866 non-null object\n",
      "runtime           10866 non-null int64\n",
      "genres            10843 non-null object\n",
      "release_date      10866 non-null object\n",
      "vote_count        10866 non-null int64\n",
      "vote_average      10866 non-null float64\n",
      "release_year      10866 non-null int64\n",
      "budget_adj        10866 non-null float64\n",
      "revenue_adj       10866 non-null float64\n",
      "dtypes: float64(4), int64(5), object(3)\n",
      "memory usage: 1018.8+ KB\n"
     ]
    }
   ],
   "source": [
    "# looks like I forgot to drop the overview column a descriptive text column explaining the film that is not really\n",
    "# useful for my analysis.\n",
    "df.drop(['overview'], axis=1, inplace=True)\n",
    "df.info()"
   ]
  },
  {
   "cell_type": "markdown",
   "metadata": {},
   "source": [
    "Cool, now I have all the columns I want to work with, however, looks like one of them is missing values - the 'genres' column. This data may be difficult to replace as it's a string so we cant use things like .mean to replace it with the average values. I'm going to do some investigation to see what the data for this column usually looks like and if there's any pattern for where it's missing."
   ]
  },
  {
   "cell_type": "code",
   "execution_count": 68,
   "metadata": {},
   "outputs": [
    {
     "data": {
      "text/html": [
       "<div>\n",
       "<style scoped>\n",
       "    .dataframe tbody tr th:only-of-type {\n",
       "        vertical-align: middle;\n",
       "    }\n",
       "\n",
       "    .dataframe tbody tr th {\n",
       "        vertical-align: top;\n",
       "    }\n",
       "\n",
       "    .dataframe thead th {\n",
       "        text-align: right;\n",
       "    }\n",
       "</style>\n",
       "<table border=\"1\" class=\"dataframe\">\n",
       "  <thead>\n",
       "    <tr style=\"text-align: right;\">\n",
       "      <th></th>\n",
       "      <th>popularity</th>\n",
       "      <th>budget</th>\n",
       "      <th>revenue</th>\n",
       "      <th>original_title</th>\n",
       "      <th>runtime</th>\n",
       "      <th>genres</th>\n",
       "      <th>release_date</th>\n",
       "      <th>vote_count</th>\n",
       "      <th>vote_average</th>\n",
       "      <th>release_year</th>\n",
       "      <th>budget_adj</th>\n",
       "      <th>revenue_adj</th>\n",
       "    </tr>\n",
       "  </thead>\n",
       "  <tbody>\n",
       "    <tr>\n",
       "      <th>0</th>\n",
       "      <td>32.985763</td>\n",
       "      <td>150000000</td>\n",
       "      <td>1513528810</td>\n",
       "      <td>Jurassic World</td>\n",
       "      <td>124</td>\n",
       "      <td>Action|Adventure|Science Fiction|Thriller</td>\n",
       "      <td>6/9/15</td>\n",
       "      <td>5562</td>\n",
       "      <td>6.5</td>\n",
       "      <td>2015</td>\n",
       "      <td>1.379999e+08</td>\n",
       "      <td>1.392446e+09</td>\n",
       "    </tr>\n",
       "    <tr>\n",
       "      <th>1</th>\n",
       "      <td>28.419936</td>\n",
       "      <td>150000000</td>\n",
       "      <td>378436354</td>\n",
       "      <td>Mad Max: Fury Road</td>\n",
       "      <td>120</td>\n",
       "      <td>Action|Adventure|Science Fiction|Thriller</td>\n",
       "      <td>5/13/15</td>\n",
       "      <td>6185</td>\n",
       "      <td>7.1</td>\n",
       "      <td>2015</td>\n",
       "      <td>1.379999e+08</td>\n",
       "      <td>3.481613e+08</td>\n",
       "    </tr>\n",
       "    <tr>\n",
       "      <th>2</th>\n",
       "      <td>13.112507</td>\n",
       "      <td>110000000</td>\n",
       "      <td>295238201</td>\n",
       "      <td>Insurgent</td>\n",
       "      <td>119</td>\n",
       "      <td>Adventure|Science Fiction|Thriller</td>\n",
       "      <td>3/18/15</td>\n",
       "      <td>2480</td>\n",
       "      <td>6.3</td>\n",
       "      <td>2015</td>\n",
       "      <td>1.012000e+08</td>\n",
       "      <td>2.716190e+08</td>\n",
       "    </tr>\n",
       "    <tr>\n",
       "      <th>3</th>\n",
       "      <td>11.173104</td>\n",
       "      <td>200000000</td>\n",
       "      <td>2068178225</td>\n",
       "      <td>Star Wars: The Force Awakens</td>\n",
       "      <td>136</td>\n",
       "      <td>Action|Adventure|Science Fiction|Fantasy</td>\n",
       "      <td>12/15/15</td>\n",
       "      <td>5292</td>\n",
       "      <td>7.5</td>\n",
       "      <td>2015</td>\n",
       "      <td>1.839999e+08</td>\n",
       "      <td>1.902723e+09</td>\n",
       "    </tr>\n",
       "    <tr>\n",
       "      <th>4</th>\n",
       "      <td>9.335014</td>\n",
       "      <td>190000000</td>\n",
       "      <td>1506249360</td>\n",
       "      <td>Furious 7</td>\n",
       "      <td>137</td>\n",
       "      <td>Action|Crime|Thriller</td>\n",
       "      <td>4/1/15</td>\n",
       "      <td>2947</td>\n",
       "      <td>7.3</td>\n",
       "      <td>2015</td>\n",
       "      <td>1.747999e+08</td>\n",
       "      <td>1.385749e+09</td>\n",
       "    </tr>\n",
       "  </tbody>\n",
       "</table>\n",
       "</div>"
      ],
      "text/plain": [
       "   popularity     budget     revenue                original_title  runtime  \\\n",
       "0   32.985763  150000000  1513528810                Jurassic World      124   \n",
       "1   28.419936  150000000   378436354            Mad Max: Fury Road      120   \n",
       "2   13.112507  110000000   295238201                     Insurgent      119   \n",
       "3   11.173104  200000000  2068178225  Star Wars: The Force Awakens      136   \n",
       "4    9.335014  190000000  1506249360                     Furious 7      137   \n",
       "\n",
       "                                      genres release_date  vote_count  \\\n",
       "0  Action|Adventure|Science Fiction|Thriller       6/9/15        5562   \n",
       "1  Action|Adventure|Science Fiction|Thriller      5/13/15        6185   \n",
       "2         Adventure|Science Fiction|Thriller      3/18/15        2480   \n",
       "3   Action|Adventure|Science Fiction|Fantasy     12/15/15        5292   \n",
       "4                      Action|Crime|Thriller       4/1/15        2947   \n",
       "\n",
       "   vote_average  release_year    budget_adj   revenue_adj  \n",
       "0           6.5          2015  1.379999e+08  1.392446e+09  \n",
       "1           7.1          2015  1.379999e+08  3.481613e+08  \n",
       "2           6.3          2015  1.012000e+08  2.716190e+08  \n",
       "3           7.5          2015  1.839999e+08  1.902723e+09  \n",
       "4           7.3          2015  1.747999e+08  1.385749e+09  "
      ]
     },
     "execution_count": 68,
     "metadata": {},
     "output_type": "execute_result"
    }
   ],
   "source": [
    "# let's first look at a sample of what the genres column usually contains\n",
    "df.head()"
   ]
  },
  {
   "cell_type": "markdown",
   "metadata": {},
   "source": [
    "Interesting, the genres column contains string data that is split with a '|' denoting that each film can have multiple genres, \n",
    "now let's take a look at how many unique values there are in this column. "
   ]
  },
  {
   "cell_type": "code",
   "execution_count": 69,
   "metadata": {},
   "outputs": [
    {
     "data": {
      "text/plain": [
       "Comedy                                               712\n",
       "Drama                                                712\n",
       "Documentary                                          312\n",
       "Drama|Romance                                        289\n",
       "Comedy|Drama                                         280\n",
       "Comedy|Romance                                       268\n",
       "Horror|Thriller                                      259\n",
       "Horror                                               253\n",
       "Comedy|Drama|Romance                                 222\n",
       "Drama|Thriller                                       138\n",
       "Comedy|Family                                        102\n",
       "Action|Thriller                                      101\n",
       "Thriller                                              93\n",
       "Drama|Comedy                                          92\n",
       "Animation|Family                                      90\n",
       "Crime|Drama|Thriller                                  81\n",
       "Crime|Drama                                           74\n",
       "Comedy|Horror                                         72\n",
       "Drama|Comedy|Romance                                  64\n",
       "Action                                                63\n",
       "Action|Comedy                                         62\n",
       "Drama|History                                         58\n",
       "Action|Crime|Drama|Thriller                           54\n",
       "Drama|Horror|Thriller                                 53\n",
       "Horror|Science Fiction                                52\n",
       "Action|Crime|Thriller                                 52\n",
       "Horror|Mystery|Thriller                               51\n",
       "Comedy|Crime                                          50\n",
       "Documentary|Music                                     49\n",
       "Drama|Music                                           49\n",
       "                                                    ... \n",
       "Comedy|Drama|Romance|Music                             1\n",
       "Science Fiction|Animation|Comedy                       1\n",
       "Action|Adventure|Drama|Family|Fantasy                  1\n",
       "Comedy|Science Fiction|Family                          1\n",
       "Drama|Horror|Thriller|Science Fiction|Foreign          1\n",
       "Drama|Horror|Science Fiction|Mystery                   1\n",
       "Adventure|Fantasy|Action|Comedy|Thriller               1\n",
       "Comedy|Music|Family                                    1\n",
       "War|Action|Drama|Romance                               1\n",
       "Action|Adventure|Science Fiction|Family|Fantasy        1\n",
       "Comedy|TV Movie                                        1\n",
       "Romance|Science Fiction|Drama                          1\n",
       "Romance|Adventure|Action|History                       1\n",
       "Action|Fantasy|Science Fiction|Adventure|Thriller      1\n",
       "Action|Drama|Fantasy|Horror                            1\n",
       "Adventure|Animation|Romance                            1\n",
       "Mystery|Drama|Fantasy                                  1\n",
       "TV Movie|Action|Adventure|Documentary                  1\n",
       "TV Movie|Science Fiction|Action|Adventure|Horror       1\n",
       "Crime|Western                                          1\n",
       "Action|Drama|Foreign|History|Thriller                  1\n",
       "Adventure|Science Fiction|Action|Thriller              1\n",
       "Comedy|Drama|Fantasy|Science Fiction                   1\n",
       "Action|Drama|War|Thriller                              1\n",
       "Action|Animation|Crime                                 1\n",
       "Drama|Romance|Music                                    1\n",
       "Fantasy|Drama|Action|Foreign|Adventure                 1\n",
       "Comedy|Family|Animation|Adventure                      1\n",
       "Drama|History|Crime                                    1\n",
       "Thriller|Drama|Action|Mystery                          1\n",
       "Name: genres, Length: 2039, dtype: int64"
      ]
     },
     "execution_count": 69,
     "metadata": {},
     "output_type": "execute_result"
    }
   ],
   "source": [
    "# finding number of unique genre values \n",
    "pd.value_counts(df.genres)"
   ]
  },
  {
   "cell_type": "code",
   "execution_count": 78,
   "metadata": {},
   "outputs": [
    {
     "data": {
      "text/plain": [
       "2039"
      ]
     },
     "execution_count": 78,
     "metadata": {},
     "output_type": "execute_result"
    }
   ],
   "source": [
    "df.genres.nunique()"
   ]
  },
  {
   "cell_type": "markdown",
   "metadata": {},
   "source": [
    "Ok, that's 2039 unique genre values for a dataset of 10,866. Tha'ts not going to work for my analysis. I'll need to come back\n",
    "to this issue later when cleaning the data to parse out only the first value before the '|' in each row. This may not be the most accurate way of doing it, but it appears at least that the first value listed is the 'primary' genre while next values are other categories it could fall into as well. I think I'll also want to change the release dates from strings to date format for more use in my analysis. I will circle back to these issues in the data cleaning section below. For now, let's take a look at the rows where genres is missing."
   ]
  },
  {
   "cell_type": "code",
   "execution_count": 70,
   "metadata": {},
   "outputs": [
    {
     "data": {
      "text/html": [
       "<div>\n",
       "<style scoped>\n",
       "    .dataframe tbody tr th:only-of-type {\n",
       "        vertical-align: middle;\n",
       "    }\n",
       "\n",
       "    .dataframe tbody tr th {\n",
       "        vertical-align: top;\n",
       "    }\n",
       "\n",
       "    .dataframe thead th {\n",
       "        text-align: right;\n",
       "    }\n",
       "</style>\n",
       "<table border=\"1\" class=\"dataframe\">\n",
       "  <thead>\n",
       "    <tr style=\"text-align: right;\">\n",
       "      <th></th>\n",
       "      <th>popularity</th>\n",
       "      <th>budget</th>\n",
       "      <th>revenue</th>\n",
       "      <th>original_title</th>\n",
       "      <th>runtime</th>\n",
       "      <th>genres</th>\n",
       "      <th>release_date</th>\n",
       "      <th>vote_count</th>\n",
       "      <th>vote_average</th>\n",
       "      <th>release_year</th>\n",
       "      <th>budget_adj</th>\n",
       "      <th>revenue_adj</th>\n",
       "    </tr>\n",
       "  </thead>\n",
       "  <tbody>\n",
       "    <tr>\n",
       "      <th>424</th>\n",
       "      <td>0.244648</td>\n",
       "      <td>0</td>\n",
       "      <td>0</td>\n",
       "      <td>Belli di papÃ</td>\n",
       "      <td>100</td>\n",
       "      <td>NaN</td>\n",
       "      <td>10/29/15</td>\n",
       "      <td>21</td>\n",
       "      <td>6.1</td>\n",
       "      <td>2015</td>\n",
       "      <td>0.00000</td>\n",
       "      <td>0.0</td>\n",
       "    </tr>\n",
       "    <tr>\n",
       "      <th>620</th>\n",
       "      <td>0.129696</td>\n",
       "      <td>0</td>\n",
       "      <td>0</td>\n",
       "      <td>All Hallows' Eve 2</td>\n",
       "      <td>90</td>\n",
       "      <td>NaN</td>\n",
       "      <td>10/6/15</td>\n",
       "      <td>13</td>\n",
       "      <td>5.0</td>\n",
       "      <td>2015</td>\n",
       "      <td>0.00000</td>\n",
       "      <td>0.0</td>\n",
       "    </tr>\n",
       "    <tr>\n",
       "      <th>997</th>\n",
       "      <td>0.330431</td>\n",
       "      <td>0</td>\n",
       "      <td>0</td>\n",
       "      <td>Star Wars Rebels: Spark of Rebellion</td>\n",
       "      <td>44</td>\n",
       "      <td>NaN</td>\n",
       "      <td>10/3/14</td>\n",
       "      <td>13</td>\n",
       "      <td>6.8</td>\n",
       "      <td>2014</td>\n",
       "      <td>0.00000</td>\n",
       "      <td>0.0</td>\n",
       "    </tr>\n",
       "    <tr>\n",
       "      <th>1712</th>\n",
       "      <td>0.302095</td>\n",
       "      <td>0</td>\n",
       "      <td>0</td>\n",
       "      <td>Prayers for Bobby</td>\n",
       "      <td>88</td>\n",
       "      <td>NaN</td>\n",
       "      <td>2/27/09</td>\n",
       "      <td>57</td>\n",
       "      <td>7.4</td>\n",
       "      <td>2009</td>\n",
       "      <td>0.00000</td>\n",
       "      <td>0.0</td>\n",
       "    </tr>\n",
       "    <tr>\n",
       "      <th>1897</th>\n",
       "      <td>0.020701</td>\n",
       "      <td>0</td>\n",
       "      <td>0</td>\n",
       "      <td>Jonas Brothers: The Concert Experience</td>\n",
       "      <td>76</td>\n",
       "      <td>NaN</td>\n",
       "      <td>2/27/09</td>\n",
       "      <td>11</td>\n",
       "      <td>7.0</td>\n",
       "      <td>2009</td>\n",
       "      <td>0.00000</td>\n",
       "      <td>0.0</td>\n",
       "    </tr>\n",
       "    <tr>\n",
       "      <th>2370</th>\n",
       "      <td>0.081892</td>\n",
       "      <td>0</td>\n",
       "      <td>0</td>\n",
       "      <td>Freshman Father</td>\n",
       "      <td>0</td>\n",
       "      <td>NaN</td>\n",
       "      <td>6/5/10</td>\n",
       "      <td>12</td>\n",
       "      <td>5.8</td>\n",
       "      <td>2010</td>\n",
       "      <td>0.00000</td>\n",
       "      <td>0.0</td>\n",
       "    </tr>\n",
       "    <tr>\n",
       "      <th>2376</th>\n",
       "      <td>0.068411</td>\n",
       "      <td>0</td>\n",
       "      <td>0</td>\n",
       "      <td>Doctor Who: A Christmas Carol</td>\n",
       "      <td>62</td>\n",
       "      <td>NaN</td>\n",
       "      <td>12/25/10</td>\n",
       "      <td>11</td>\n",
       "      <td>7.7</td>\n",
       "      <td>2010</td>\n",
       "      <td>0.00000</td>\n",
       "      <td>0.0</td>\n",
       "    </tr>\n",
       "    <tr>\n",
       "      <th>2853</th>\n",
       "      <td>0.130018</td>\n",
       "      <td>0</td>\n",
       "      <td>0</td>\n",
       "      <td>Vizontele</td>\n",
       "      <td>110</td>\n",
       "      <td>NaN</td>\n",
       "      <td>2/2/01</td>\n",
       "      <td>12</td>\n",
       "      <td>7.2</td>\n",
       "      <td>2001</td>\n",
       "      <td>0.00000</td>\n",
       "      <td>0.0</td>\n",
       "    </tr>\n",
       "    <tr>\n",
       "      <th>3279</th>\n",
       "      <td>0.145331</td>\n",
       "      <td>0</td>\n",
       "      <td>0</td>\n",
       "      <td>ì•„ê¸°ì™€ ë‚˜</td>\n",
       "      <td>96</td>\n",
       "      <td>NaN</td>\n",
       "      <td>8/13/08</td>\n",
       "      <td>11</td>\n",
       "      <td>6.1</td>\n",
       "      <td>2008</td>\n",
       "      <td>0.00000</td>\n",
       "      <td>0.0</td>\n",
       "    </tr>\n",
       "    <tr>\n",
       "      <th>4547</th>\n",
       "      <td>0.520520</td>\n",
       "      <td>0</td>\n",
       "      <td>0</td>\n",
       "      <td>London 2012 Olympic Opening Ceremony: Isles of...</td>\n",
       "      <td>220</td>\n",
       "      <td>NaN</td>\n",
       "      <td>7/27/12</td>\n",
       "      <td>12</td>\n",
       "      <td>8.3</td>\n",
       "      <td>2012</td>\n",
       "      <td>0.00000</td>\n",
       "      <td>0.0</td>\n",
       "    </tr>\n",
       "    <tr>\n",
       "      <th>4732</th>\n",
       "      <td>0.235911</td>\n",
       "      <td>0</td>\n",
       "      <td>0</td>\n",
       "      <td>The Scapegoat</td>\n",
       "      <td>100</td>\n",
       "      <td>NaN</td>\n",
       "      <td>9/9/12</td>\n",
       "      <td>12</td>\n",
       "      <td>6.2</td>\n",
       "      <td>2012</td>\n",
       "      <td>0.00000</td>\n",
       "      <td>0.0</td>\n",
       "    </tr>\n",
       "    <tr>\n",
       "      <th>4797</th>\n",
       "      <td>0.167501</td>\n",
       "      <td>0</td>\n",
       "      <td>0</td>\n",
       "      <td>Doctor Who: The Snowmen</td>\n",
       "      <td>60</td>\n",
       "      <td>NaN</td>\n",
       "      <td>12/25/12</td>\n",
       "      <td>10</td>\n",
       "      <td>7.8</td>\n",
       "      <td>2012</td>\n",
       "      <td>0.00000</td>\n",
       "      <td>0.0</td>\n",
       "    </tr>\n",
       "    <tr>\n",
       "      <th>4890</th>\n",
       "      <td>0.083202</td>\n",
       "      <td>0</td>\n",
       "      <td>0</td>\n",
       "      <td>Cousin Ben Troop Screening</td>\n",
       "      <td>2</td>\n",
       "      <td>NaN</td>\n",
       "      <td>1/1/12</td>\n",
       "      <td>14</td>\n",
       "      <td>7.0</td>\n",
       "      <td>2012</td>\n",
       "      <td>0.00000</td>\n",
       "      <td>0.0</td>\n",
       "    </tr>\n",
       "    <tr>\n",
       "      <th>5830</th>\n",
       "      <td>0.248944</td>\n",
       "      <td>0</td>\n",
       "      <td>0</td>\n",
       "      <td>Doctor Who: The Time of the Doctor</td>\n",
       "      <td>60</td>\n",
       "      <td>NaN</td>\n",
       "      <td>12/25/13</td>\n",
       "      <td>26</td>\n",
       "      <td>8.5</td>\n",
       "      <td>2013</td>\n",
       "      <td>0.00000</td>\n",
       "      <td>0.0</td>\n",
       "    </tr>\n",
       "    <tr>\n",
       "      <th>5934</th>\n",
       "      <td>0.067433</td>\n",
       "      <td>0</td>\n",
       "      <td>0</td>\n",
       "      <td>Prada: Candy</td>\n",
       "      <td>3</td>\n",
       "      <td>NaN</td>\n",
       "      <td>3/25/13</td>\n",
       "      <td>27</td>\n",
       "      <td>6.9</td>\n",
       "      <td>2013</td>\n",
       "      <td>0.00000</td>\n",
       "      <td>0.0</td>\n",
       "    </tr>\n",
       "    <tr>\n",
       "      <th>6043</th>\n",
       "      <td>0.039080</td>\n",
       "      <td>0</td>\n",
       "      <td>0</td>\n",
       "      <td>Bombay Talkies</td>\n",
       "      <td>127</td>\n",
       "      <td>NaN</td>\n",
       "      <td>5/3/13</td>\n",
       "      <td>12</td>\n",
       "      <td>5.9</td>\n",
       "      <td>2013</td>\n",
       "      <td>0.00000</td>\n",
       "      <td>0.0</td>\n",
       "    </tr>\n",
       "    <tr>\n",
       "      <th>6530</th>\n",
       "      <td>0.092724</td>\n",
       "      <td>0</td>\n",
       "      <td>0</td>\n",
       "      <td>Saw Rebirth</td>\n",
       "      <td>6</td>\n",
       "      <td>NaN</td>\n",
       "      <td>10/24/05</td>\n",
       "      <td>24</td>\n",
       "      <td>5.9</td>\n",
       "      <td>2005</td>\n",
       "      <td>0.00000</td>\n",
       "      <td>0.0</td>\n",
       "    </tr>\n",
       "    <tr>\n",
       "      <th>8234</th>\n",
       "      <td>0.028874</td>\n",
       "      <td>0</td>\n",
       "      <td>0</td>\n",
       "      <td>Viaggi di nozze</td>\n",
       "      <td>103</td>\n",
       "      <td>NaN</td>\n",
       "      <td>12/15/95</td>\n",
       "      <td>44</td>\n",
       "      <td>6.7</td>\n",
       "      <td>1995</td>\n",
       "      <td>0.00000</td>\n",
       "      <td>0.0</td>\n",
       "    </tr>\n",
       "    <tr>\n",
       "      <th>8614</th>\n",
       "      <td>0.273934</td>\n",
       "      <td>0</td>\n",
       "      <td>0</td>\n",
       "      <td>T2 3-D: Battle Across Time</td>\n",
       "      <td>12</td>\n",
       "      <td>NaN</td>\n",
       "      <td>1/1/96</td>\n",
       "      <td>14</td>\n",
       "      <td>6.7</td>\n",
       "      <td>1996</td>\n",
       "      <td>0.00000</td>\n",
       "      <td>0.0</td>\n",
       "    </tr>\n",
       "    <tr>\n",
       "      <th>8878</th>\n",
       "      <td>0.038045</td>\n",
       "      <td>0</td>\n",
       "      <td>0</td>\n",
       "      <td>Mom's Got a Date With a Vampire</td>\n",
       "      <td>85</td>\n",
       "      <td>NaN</td>\n",
       "      <td>10/13/00</td>\n",
       "      <td>16</td>\n",
       "      <td>5.4</td>\n",
       "      <td>2000</td>\n",
       "      <td>0.00000</td>\n",
       "      <td>0.0</td>\n",
       "    </tr>\n",
       "    <tr>\n",
       "      <th>9307</th>\n",
       "      <td>0.094652</td>\n",
       "      <td>0</td>\n",
       "      <td>0</td>\n",
       "      <td>Goldeneye</td>\n",
       "      <td>105</td>\n",
       "      <td>NaN</td>\n",
       "      <td>8/26/89</td>\n",
       "      <td>10</td>\n",
       "      <td>5.3</td>\n",
       "      <td>1989</td>\n",
       "      <td>0.00000</td>\n",
       "      <td>0.0</td>\n",
       "    </tr>\n",
       "    <tr>\n",
       "      <th>9799</th>\n",
       "      <td>0.175008</td>\n",
       "      <td>0</td>\n",
       "      <td>0</td>\n",
       "      <td>The Amputee</td>\n",
       "      <td>5</td>\n",
       "      <td>NaN</td>\n",
       "      <td>1/1/74</td>\n",
       "      <td>11</td>\n",
       "      <td>5.0</td>\n",
       "      <td>1974</td>\n",
       "      <td>0.00000</td>\n",
       "      <td>0.0</td>\n",
       "    </tr>\n",
       "    <tr>\n",
       "      <th>10659</th>\n",
       "      <td>0.344172</td>\n",
       "      <td>5000</td>\n",
       "      <td>0</td>\n",
       "      <td>The Party at Kitty and Stud's</td>\n",
       "      <td>71</td>\n",
       "      <td>NaN</td>\n",
       "      <td>2/10/70</td>\n",
       "      <td>10</td>\n",
       "      <td>3.0</td>\n",
       "      <td>1970</td>\n",
       "      <td>28081.84172</td>\n",
       "      <td>0.0</td>\n",
       "    </tr>\n",
       "  </tbody>\n",
       "</table>\n",
       "</div>"
      ],
      "text/plain": [
       "       popularity  budget  revenue  \\\n",
       "424      0.244648       0        0   \n",
       "620      0.129696       0        0   \n",
       "997      0.330431       0        0   \n",
       "1712     0.302095       0        0   \n",
       "1897     0.020701       0        0   \n",
       "2370     0.081892       0        0   \n",
       "2376     0.068411       0        0   \n",
       "2853     0.130018       0        0   \n",
       "3279     0.145331       0        0   \n",
       "4547     0.520520       0        0   \n",
       "4732     0.235911       0        0   \n",
       "4797     0.167501       0        0   \n",
       "4890     0.083202       0        0   \n",
       "5830     0.248944       0        0   \n",
       "5934     0.067433       0        0   \n",
       "6043     0.039080       0        0   \n",
       "6530     0.092724       0        0   \n",
       "8234     0.028874       0        0   \n",
       "8614     0.273934       0        0   \n",
       "8878     0.038045       0        0   \n",
       "9307     0.094652       0        0   \n",
       "9799     0.175008       0        0   \n",
       "10659    0.344172    5000        0   \n",
       "\n",
       "                                          original_title  runtime genres  \\\n",
       "424                                       Belli di papÃ       100    NaN   \n",
       "620                                   All Hallows' Eve 2       90    NaN   \n",
       "997                 Star Wars Rebels: Spark of Rebellion       44    NaN   \n",
       "1712                                   Prayers for Bobby       88    NaN   \n",
       "1897              Jonas Brothers: The Concert Experience       76    NaN   \n",
       "2370                                     Freshman Father        0    NaN   \n",
       "2376                       Doctor Who: A Christmas Carol       62    NaN   \n",
       "2853                                           Vizontele      110    NaN   \n",
       "3279                                       ì•„ê¸°ì™€ ë‚˜       96    NaN   \n",
       "4547   London 2012 Olympic Opening Ceremony: Isles of...      220    NaN   \n",
       "4732                                       The Scapegoat      100    NaN   \n",
       "4797                             Doctor Who: The Snowmen       60    NaN   \n",
       "4890                          Cousin Ben Troop Screening        2    NaN   \n",
       "5830                  Doctor Who: The Time of the Doctor       60    NaN   \n",
       "5934                                        Prada: Candy        3    NaN   \n",
       "6043                                      Bombay Talkies      127    NaN   \n",
       "6530                                         Saw Rebirth        6    NaN   \n",
       "8234                                     Viaggi di nozze      103    NaN   \n",
       "8614                          T2 3-D: Battle Across Time       12    NaN   \n",
       "8878                     Mom's Got a Date With a Vampire       85    NaN   \n",
       "9307                                           Goldeneye      105    NaN   \n",
       "9799                                         The Amputee        5    NaN   \n",
       "10659                      The Party at Kitty and Stud's       71    NaN   \n",
       "\n",
       "      release_date  vote_count  vote_average  release_year   budget_adj  \\\n",
       "424       10/29/15          21           6.1          2015      0.00000   \n",
       "620        10/6/15          13           5.0          2015      0.00000   \n",
       "997        10/3/14          13           6.8          2014      0.00000   \n",
       "1712       2/27/09          57           7.4          2009      0.00000   \n",
       "1897       2/27/09          11           7.0          2009      0.00000   \n",
       "2370        6/5/10          12           5.8          2010      0.00000   \n",
       "2376      12/25/10          11           7.7          2010      0.00000   \n",
       "2853        2/2/01          12           7.2          2001      0.00000   \n",
       "3279       8/13/08          11           6.1          2008      0.00000   \n",
       "4547       7/27/12          12           8.3          2012      0.00000   \n",
       "4732        9/9/12          12           6.2          2012      0.00000   \n",
       "4797      12/25/12          10           7.8          2012      0.00000   \n",
       "4890        1/1/12          14           7.0          2012      0.00000   \n",
       "5830      12/25/13          26           8.5          2013      0.00000   \n",
       "5934       3/25/13          27           6.9          2013      0.00000   \n",
       "6043        5/3/13          12           5.9          2013      0.00000   \n",
       "6530      10/24/05          24           5.9          2005      0.00000   \n",
       "8234      12/15/95          44           6.7          1995      0.00000   \n",
       "8614        1/1/96          14           6.7          1996      0.00000   \n",
       "8878      10/13/00          16           5.4          2000      0.00000   \n",
       "9307       8/26/89          10           5.3          1989      0.00000   \n",
       "9799        1/1/74          11           5.0          1974      0.00000   \n",
       "10659      2/10/70          10           3.0          1970  28081.84172   \n",
       "\n",
       "       revenue_adj  \n",
       "424            0.0  \n",
       "620            0.0  \n",
       "997            0.0  \n",
       "1712           0.0  \n",
       "1897           0.0  \n",
       "2370           0.0  \n",
       "2376           0.0  \n",
       "2853           0.0  \n",
       "3279           0.0  \n",
       "4547           0.0  \n",
       "4732           0.0  \n",
       "4797           0.0  \n",
       "4890           0.0  \n",
       "5830           0.0  \n",
       "5934           0.0  \n",
       "6043           0.0  \n",
       "6530           0.0  \n",
       "8234           0.0  \n",
       "8614           0.0  \n",
       "8878           0.0  \n",
       "9307           0.0  \n",
       "9799           0.0  \n",
       "10659          0.0  "
      ]
     },
     "execution_count": 70,
     "metadata": {},
     "output_type": "execute_result"
    }
   ],
   "source": [
    "# let's look at rows where genres is missing\n",
    "# usally just printing the data would not be a great technique,\n",
    "# however since this only relates to 23 rows I think it is acceptable.\n",
    "df[df.genres.isnull()]"
   ]
  },
  {
   "cell_type": "markdown",
   "metadata": {},
   "source": [
    "OK, this data does not look to be useful for the analysis, for one thing all of these rows except 1 are missing data for budget and revenue which I will need to perform my analysis so I'm going to go ahead and remove these 23 rows from the dataset before continuing."
   ]
  },
  {
   "cell_type": "code",
   "execution_count": 71,
   "metadata": {},
   "outputs": [
    {
     "name": "stdout",
     "output_type": "stream",
     "text": [
      "<class 'pandas.core.frame.DataFrame'>\n",
      "Int64Index: 10843 entries, 0 to 10865\n",
      "Data columns (total 12 columns):\n",
      "popularity        10843 non-null float64\n",
      "budget            10843 non-null int64\n",
      "revenue           10843 non-null int64\n",
      "original_title    10843 non-null object\n",
      "runtime           10843 non-null int64\n",
      "genres            10843 non-null object\n",
      "release_date      10843 non-null object\n",
      "vote_count        10843 non-null int64\n",
      "vote_average      10843 non-null float64\n",
      "release_year      10843 non-null int64\n",
      "budget_adj        10843 non-null float64\n",
      "revenue_adj       10843 non-null float64\n",
      "dtypes: float64(4), int64(5), object(3)\n",
      "memory usage: 1.1+ MB\n"
     ]
    }
   ],
   "source": [
    "# dropping the null data from the dataset\n",
    "df.dropna(inplace=True)\n",
    "df.info()"
   ]
  },
  {
   "cell_type": "markdown",
   "metadata": {},
   "source": [
    "### Data Cleaning\n",
    "\n",
    "Now that I've removed all the unnecessary columns from the dataset as well as the null values I determined would not be useful\n",
    "for my analysis I need to clean up the data a bit more. As discussed earlier, I will need to parse out only the first value from the genres column before the '|' and input those in a new column I will call 'primary_genre'. Then I will clean up the realease_date values from strings to datetime for use later in my Exploratory data analysis."
   ]
  },
  {
   "cell_type": "code",
   "execution_count": 72,
   "metadata": {},
   "outputs": [
    {
     "name": "stdout",
     "output_type": "stream",
     "text": [
      "Action|Adventure|Science Fiction|Thriller\n"
     ]
    },
    {
     "data": {
      "text/plain": [
       "'Action'"
      ]
     },
     "execution_count": 72,
     "metadata": {},
     "output_type": "execute_result"
    }
   ],
   "source": [
    "# First, let's parse out the data from the genres column\n",
    "split_test = df['genres'][0]\n",
    "print(split_test)\n",
    "split_test.split('|')[0]"
   ]
  },
  {
   "cell_type": "code",
   "execution_count": 73,
   "metadata": {},
   "outputs": [
    {
     "data": {
      "text/plain": [
       "Drama              2453\n",
       "Comedy             2319\n",
       "Action             1590\n",
       "Horror              915\n",
       "Adventure           586\n",
       "Thriller            491\n",
       "Documentary         432\n",
       "Animation           403\n",
       "Crime               381\n",
       "Fantasy             272\n",
       "Science Fiction     214\n",
       "Romance             186\n",
       "Family              144\n",
       "Mystery             125\n",
       "Music               100\n",
       "TV Movie             78\n",
       "War                  59\n",
       "History              44\n",
       "Western              42\n",
       "Foreign               9\n",
       "Name: primary_genre, dtype: int64"
      ]
     },
     "execution_count": 73,
     "metadata": {},
     "output_type": "execute_result"
    }
   ],
   "source": [
    "# Since I tested the split above to ensure it worked, now I will apply the split to the dataframe\n",
    "df['primary_genre'] = df['genres'].apply(lambda s:s.split('|')[0])\n",
    "# test to make sure this worked correctly\n",
    "pd.value_counts(df.primary_genre)"
   ]
  },
  {
   "cell_type": "code",
   "execution_count": 77,
   "metadata": {},
   "outputs": [
    {
     "data": {
      "text/plain": [
       "20"
      ]
     },
     "execution_count": 77,
     "metadata": {},
     "output_type": "execute_result"
    }
   ],
   "source": [
    "# OK, that worked! So now I have a much more managable list of genres to deal with for my analyis. Let's see exactly how many\n",
    "df.primary_genre.nunique()"
   ]
  },
  {
   "cell_type": "markdown",
   "metadata": {},
   "source": [
    "Using the above two outputs we can see that that we have now succssfully cleaned up the data from having 2039 unique genres values to 20 unique primary_genre values. This is much more manageable and useful for our analysis. We can also see that he vast majority of these genres are either Drama, Comedy, or Action. Now for the final clean-up step I will take, let's convert the string dates to datetime and pull out only the year. "
   ]
  },
  {
   "cell_type": "code",
   "execution_count": 115,
   "metadata": {},
   "outputs": [
    {
     "name": "stdout",
     "output_type": "stream",
     "text": [
      "2015-06-09 00:00:00\n",
      "2015\n",
      "Jun\n"
     ]
    }
   ],
   "source": [
    "# Let's test out how to get the year from the release_date column \n",
    "# date_test = pd.to_datetime(df['release_date'][0])\n",
    "convert_date = datetime.strptime(df['release_date'][0], '%m/%d/%y')\n",
    "year = convert_date.strftime('%Y')\n",
    "month = convert_date.strftime('%b')\n",
    "print(convert_date)\n",
    "print(year)\n",
    "print(month)\n",
    "# print(df['release_date'][0])"
   ]
  },
  {
   "cell_type": "markdown",
   "metadata": {},
   "source": [
    "As you can see above we have now successfully converted the string to a datetime object and then parsed that datetime object to only receive the year. This will be useful for my analysis so that we can now group data by year once I convert all string dates to this format and create new columns for that data. I think I'll also want a short text version of the month for the analysis as well as I'd like to see if different months have higher revenues."
   ]
  },
  {
   "cell_type": "code",
   "execution_count": 122,
   "metadata": {},
   "outputs": [
    {
     "data": {
      "text/plain": [
       "0     6\n",
       "1     5\n",
       "2     3\n",
       "3    12\n",
       "4     4\n",
       "Name: month, dtype: int64"
      ]
     },
     "execution_count": 122,
     "metadata": {},
     "output_type": "execute_result"
    }
   ],
   "source": [
    "# Let's now add two columns, one for the month and one for the year.\n",
    "df['date'] = pd.to_datetime(df['release_date'])\n",
    "df['year'] = pd.DatetimeIndex(df['date']).year\n",
    "df['month'] = pd.DatetimeIndex(df['date']).month\n",
    "df['year'].head()\n",
    "df['month'].head()"
   ]
  },
  {
   "cell_type": "code",
   "execution_count": 121,
   "metadata": {},
   "outputs": [
    {
     "name": "stdout",
     "output_type": "stream",
     "text": [
      "<class 'pandas.core.frame.DataFrame'>\n",
      "Int64Index: 10843 entries, 0 to 10865\n",
      "Data columns (total 16 columns):\n",
      "popularity        10843 non-null float64\n",
      "budget            10843 non-null int64\n",
      "revenue           10843 non-null int64\n",
      "original_title    10843 non-null object\n",
      "runtime           10843 non-null int64\n",
      "genres            10843 non-null object\n",
      "release_date      10843 non-null object\n",
      "vote_count        10843 non-null int64\n",
      "vote_average      10843 non-null float64\n",
      "release_year      10843 non-null int64\n",
      "budget_adj        10843 non-null float64\n",
      "revenue_adj       10843 non-null float64\n",
      "primary_genre     10843 non-null object\n",
      "date              10843 non-null datetime64[ns]\n",
      "year              10843 non-null int64\n",
      "month             10843 non-null int64\n",
      "dtypes: datetime64[ns](1), float64(4), int64(7), object(4)\n",
      "memory usage: 1.7+ MB\n"
     ]
    }
   ],
   "source": [
    "df.info()"
   ]
  },
  {
   "cell_type": "markdown",
   "metadata": {},
   "source": [
    "Great, now I have 3 new columns for the date in a datetime format and the year and month in integer format. I think I'm ready to start my exploratory data analysis!"
   ]
  },
  {
   "cell_type": "markdown",
   "metadata": {},
   "source": [
    "<a id='eda'></a>\n",
    "## Exploratory Data Analysis\n",
    "\n",
    "### Which genres had the highest average gross earnings adjusted for inflation?\n",
    "\n",
    "For my first question, I want to explore which genres from the newly created primary_genre column had the highest average gross\n",
    "revenue adjusted for inflation. This will allow me to look at the dataset as a whole and draw a conclusion about which genre typically earns the highest revenue. Then I want to look at whether or not this changed over time using the newly created year column."
   ]
  },
  {
   "cell_type": "code",
   "execution_count": 128,
   "metadata": {},
   "outputs": [
    {
     "name": "stdout",
     "output_type": "stream",
     "text": [
      "primary_genre\n",
      "Action             74,010,064.59\n",
      "Adventure         166,535,606.16\n",
      "Animation          76,714,425.16\n",
      "Comedy             38,377,656.85\n",
      "Crime              46,746,409.34\n",
      "Documentary         2,150,125.06\n",
      "Drama              35,786,224.55\n",
      "Family             77,248,634.37\n",
      "Fantasy            82,837,603.77\n",
      "Foreign                     0.00\n",
      "History            65,361,945.75\n",
      "Horror             24,179,787.36\n",
      "Music              38,079,071.99\n",
      "Mystery            30,022,894.06\n",
      "Romance            47,215,144.23\n",
      "Science Fiction    99,518,096.06\n",
      "TV Movie              748,578.24\n",
      "Thriller           30,969,236.99\n",
      "War                48,743,102.14\n",
      "Western            47,307,389.85\n",
      "Name: revenue_adj, dtype: float64\n"
     ]
    }
   ],
   "source": [
    "# First, let's look at average adj_revenue by genre\n",
    "# we need the following line of code to format the output in a more readable way removing scientific notation\n",
    "pd.options.display.float_format = '{:,.2f}'.format\n",
    "print(df.groupby('primary_genre').revenue_adj.mean())"
   ]
  },
  {
   "cell_type": "markdown",
   "metadata": {},
   "source": [
    "This is interesting, first I notice that the \"Foreign\" genre has an average of 0.00. This means that there are some missing adj_revenue values in the dataset. I want to remove those before continuing with the analysis."
   ]
  },
  {
   "cell_type": "code",
   "execution_count": 131,
   "metadata": {},
   "outputs": [
    {
     "data": {
      "text/plain": [
       "popularity        5993\n",
       "budget            5993\n",
       "revenue           5993\n",
       "original_title    5993\n",
       "runtime           5993\n",
       "genres            5993\n",
       "release_date      5993\n",
       "vote_count        5993\n",
       "vote_average      5993\n",
       "release_year      5993\n",
       "budget_adj        5993\n",
       "revenue_adj       5993\n",
       "primary_genre     5993\n",
       "date              5993\n",
       "year              5993\n",
       "month             5993\n",
       "dtype: int64"
      ]
     },
     "execution_count": 131,
     "metadata": {},
     "output_type": "execute_result"
    }
   ],
   "source": [
    "# Let's see how many rows have adj revenue of 0.00. These should be removed from the dataset as they are outliers\n",
    "df.query('revenue_adj == 0.00').count()"
   ]
  },
  {
   "cell_type": "markdown",
   "metadata": {},
   "source": [
    "Wow, 5993 rows - that's almost half the dataset, let's remove thes before going forward."
   ]
  },
  {
   "cell_type": "code",
   "execution_count": 133,
   "metadata": {},
   "outputs": [
    {
     "name": "stdout",
     "output_type": "stream",
     "text": [
      "<class 'pandas.core.frame.DataFrame'>\n",
      "Int64Index: 4850 entries, 0 to 10848\n",
      "Data columns (total 16 columns):\n",
      "popularity        4850 non-null float64\n",
      "budget            4850 non-null int64\n",
      "revenue           4850 non-null int64\n",
      "original_title    4850 non-null object\n",
      "runtime           4850 non-null int64\n",
      "genres            4850 non-null object\n",
      "release_date      4850 non-null object\n",
      "vote_count        4850 non-null int64\n",
      "vote_average      4850 non-null float64\n",
      "release_year      4850 non-null int64\n",
      "budget_adj        4850 non-null float64\n",
      "revenue_adj       4850 non-null float64\n",
      "primary_genre     4850 non-null object\n",
      "date              4850 non-null datetime64[ns]\n",
      "year              4850 non-null int64\n",
      "month             4850 non-null int64\n",
      "dtypes: datetime64[ns](1), float64(4), int64(7), object(4)\n",
      "memory usage: 644.1+ KB\n"
     ]
    }
   ],
   "source": [
    "# Remove rows with revenue_adj of 0.00\n",
    "df.drop(df[df.revenue_adj == 0.00].index, inplace=True)\n",
    "df.query('revenue_adj == 0.00').count()\n",
    "df.info()"
   ]
  },
  {
   "cell_type": "markdown",
   "metadata": {},
   "source": [
    "Ok, we've removed all rows with revenue_adj of 0 and now have 4,850 records containing all relevant column detail. Let's take another look at the average adj_revenue by genre."
   ]
  },
  {
   "cell_type": "code",
   "execution_count": 135,
   "metadata": {},
   "outputs": [
    {
     "name": "stdout",
     "output_type": "stream",
     "text": [
      "primary_genre\n",
      "Action            142,637,579.04\n",
      "Adventure         276,458,541.67\n",
      "Animation         257,632,611.18\n",
      "Comedy             84,759,796.41\n",
      "Crime              86,040,492.55\n",
      "Documentary        10,555,159.40\n",
      "Drama              75,871,744.87\n",
      "Family            227,016,394.89\n",
      "Fantasy           165,675,207.53\n",
      "History           136,948,838.71\n",
      "Horror             68,285,510.60\n",
      "Music             100,208,084.17\n",
      "Mystery            72,170,418.40\n",
      "Romance           104,547,819.38\n",
      "Science Fiction   206,765,752.99\n",
      "TV Movie           58,389,103.04\n",
      "Thriller           76,411,534.47\n",
      "War               130,720,137.56\n",
      "Western            94,614,779.71\n",
      "Name: revenue_adj, dtype: float64\n"
     ]
    }
   ],
   "source": [
    "print(df.groupby('primary_genre').revenue_adj.mean())"
   ]
  },
  {
   "cell_type": "markdown",
   "metadata": {},
   "source": [
    "Wow, removing the 0.00 values really impacted our outcome. Now we can see that Adventure and Animation really blow almost every other category out of the water with over $250 million in average adjusted revenue. Let's take a look at what this would look like graphically."
   ]
  },
  {
   "cell_type": "code",
   "execution_count": 193,
   "metadata": {},
   "outputs": [
    {
     "data": {
      "image/png": "[encoded data removed]",
      "text/plain": [
       "<Figure size 432x288 with 1 Axes>"
      ]
     },
     "metadata": {},
     "output_type": "display_data"
    }
   ],
   "source": [
    "# Plot a graph of average adjusted revenue by genre\n",
    "df.groupby('primary_genre').revenue_adj.mean().plot(kind='bar');"
   ]
  },
  {
   "cell_type": "markdown",
   "metadata": {},
   "source": [
    "As we can see, Adventure, Animation, Family, and Science Fiction appear to be the highest grossing film genres over time. This may be because there were simply more of these types of movies released each year, so let's take a look at the total count of each type over time."
   ]
  },
  {
   "cell_type": "code",
   "execution_count": 186,
   "metadata": {},
   "outputs": [
    {
     "name": "stdout",
     "output_type": "stream",
     "text": [
      "primary_genre\n",
      "Action              825\n",
      "Adventure           353\n",
      "Animation           120\n",
      "Comedy             1050\n",
      "Crime               207\n",
      "Documentary          88\n",
      "Drama              1157\n",
      "Family               49\n",
      "Fantasy             136\n",
      "History              21\n",
      "Horror              324\n",
      "Music                38\n",
      "Mystery              52\n",
      "Romance              84\n",
      "Science Fiction     103\n",
      "TV Movie              1\n",
      "Thriller            199\n",
      "War                  22\n",
      "Western              21\n",
      "Name: primary_genre, dtype: int64\n"
     ]
    }
   ],
   "source": [
    "# print alist showing total count of releases by primary genre\n",
    "print(df.groupby('primary_genre').primary_genre.count())"
   ]
  },
  {
   "cell_type": "markdown",
   "metadata": {},
   "source": [
    "As we can see this is actually not the case since action, adventure, and science fiction don't represent the largest number of releases throughout the dataset. Actually, Comedy and Drama are released more often but seem to have lower average adj_revenues."
   ]
  },
  {
   "cell_type": "code",
   "execution_count": 190,
   "metadata": {},
   "outputs": [
    {
     "data": {
      "image/png": "[encoded data removed]",
      "text/plain": [
       "<Figure size 432x288 with 1 Axes>"
      ]
     },
     "metadata": {},
     "output_type": "display_data"
    }
   ],
   "source": [
    "df.groupby('primary_genre').primary_genre.count().plot(kind='bar');"
   ]
  },
  {
   "cell_type": "markdown",
   "metadata": {},
   "source": [
    "Let's also now look at average revenue over year to see if the average revenue increased or decreased over time."
   ]
  },
  {
   "cell_type": "code",
   "execution_count": 207,
   "metadata": {},
   "outputs": [
    {
     "data": {
      "image/png": "[encoded data removed]",
      "text/plain": [
       "<Figure size 432x288 with 1 Axes>"
      ]
     },
     "metadata": {},
     "output_type": "display_data"
    }
   ],
   "source": [
    "df.plot(x='year', y='revenue_adj', kind='scatter');"
   ]
  },
  {
   "cell_type": "markdown",
   "metadata": {},
   "source": [
    "Ok, well, it's clear from the graph above that there are some outliers in the data and there are some years that are not possible as it's 2018 and some of these refer to 2020 and beyond. For now, given the time commitment for this exercise, let's ignore the outliers and focus on the pre-2020 data. The above shows us that the average revenue for films (even adjusted for inflation) has grown over time with a few outliers in each year that would be much higher earners than the rest of the films at that time."
   ]
  },
  {
   "cell_type": "markdown",
   "metadata": {},
   "source": [
    "### Which genre of film typically receives the highest ratings?"
   ]
  },
  {
   "cell_type": "markdown",
   "metadata": {
    "collapsed": true
   },
   "source": [
    "Above we saw that on average the Adventure, Action, and Science Fiction genres had higher average revenue than any other primary genre. Now, let's take a look at whether or not those relate to highest average rating."
   ]
  },
  {
   "cell_type": "code",
   "execution_count": 198,
   "metadata": {},
   "outputs": [
    {
     "data": {
      "text/plain": [
       "primary_genre\n",
       "Action            5.96\n",
       "Adventure         6.23\n",
       "Animation         6.34\n",
       "Comedy            6.01\n",
       "Crime             6.41\n",
       "Documentary       6.88\n",
       "Drama             6.39\n",
       "Family            5.99\n",
       "Fantasy           6.00\n",
       "History           6.39\n",
       "Horror            5.72\n",
       "Music             6.30\n",
       "Mystery           6.14\n",
       "Romance           6.39\n",
       "Science Fiction   6.23\n",
       "TV Movie          5.60\n",
       "Thriller          5.99\n",
       "War               6.46\n",
       "Western           6.33\n",
       "Name: vote_average, dtype: float64"
      ]
     },
     "execution_count": 198,
     "metadata": {},
     "output_type": "execute_result"
    }
   ],
   "source": [
    "# Let's look at the average rating by genre\n",
    "df.groupby('primary_genre').vote_average.mean()"
   ]
  },
  {
   "cell_type": "code",
   "execution_count": 199,
   "metadata": {},
   "outputs": [
    {
     "data": {
      "image/png": "[encoded data removed]",
      "text/plain": [
       "<Figure size 432x288 with 1 Axes>"
      ]
     },
     "metadata": {},
     "output_type": "display_data"
    }
   ],
   "source": [
    "df.groupby('primary_genre').vote_average.mean().plot(kind='bar');"
   ]
  },
  {
   "cell_type": "markdown",
   "metadata": {},
   "source": [
    "This is very interesting, the above tells us that while action, adventure, and animation earn more revenue on average than other series - it's actually Documentaries and War films that receive the highest ratings. Let's take a look at this over the years to see if on average ratings were higher or lower in prior years, again there seems to be an issue with the year conversion - so let's ignore the outliers."
   ]
  },
  {
   "cell_type": "code",
   "execution_count": 206,
   "metadata": {},
   "outputs": [
    {
     "data": {
      "image/png": "[encoded data removed]",
      "text/plain": [
       "<Figure size 432x288 with 1 Axes>"
      ]
     },
     "metadata": {},
     "output_type": "display_data"
    }
   ],
   "source": [
    "df.plot(x='year', y='vote_average', kind='scatter');"
   ]
  },
  {
   "cell_type": "markdown",
   "metadata": {},
   "source": [
    "The above shows us that on average, the overall ratings of films has become much more varied as the years go on. Particularly, this shows us that in the 1980s and 1990s films received higher ratings than they did moving into the 2000s and 2010s."
   ]
  },
  {
   "cell_type": "markdown",
   "metadata": {},
   "source": [
    "<a id='conclusions'></a>\n",
    "## Conclusions\n",
    "\n",
    "First, I think that there is more that could be done here in terms of cleaning up this data to remove the outliers by year and most likely other categories, however, I was still able to draw some very interesting conclusions. \n",
    "\n",
    "The data tells us that on average Action and Adventure type movies (including Science Fiction) are higher earners than their counterparts but that those films generally have lower average ratings than those that earn less revenue. \n",
    "\n",
    "There is also a very interesting relationship between the quality of films over time, which we saw above to be declining, and the amount of revenue earned by films over time, which we saw to be increasing. I think that this is interesting as put more simply it states that while more people are going to the movies now than ever before the quality of those movies in the critics opinion is decreasing. \n",
    "\n",
    "Basically, this can be summed up in another way by saying that often the financial success of a film does not relate directly to crritics opinion, and in-fact, critics often prefer films that earn less and are less popular as we saw that Documentaries which are produced in fewer number and earn less than other genres receive the highest rating by critics over time. \n",
    "\n",
    "It is very interesting to prove through data analysis that critics and audiences often have very different opinions of films, audiences appear to seek entertainment while critics seek quality and interesting story-telling."
   ]
  },
  {
   "attachments": {},
   "cell_type": "markdown",
   "metadata": {},
   "source": [
    "# Bibliography\n",
    "\n",
    "- https://stackoverflow.com/questions/44885203/split-and-take-part-of-string-from-column-values-and-make-new-column-from-that-i\n",
    "- https://stackoverflow.com/questions/14506583/suppress-output-of-object-when-plotting-in-ipython\n",
    "- https://regexr.com/\n",
    "- https://chrisalbon.com/python/data_wrangling/pandas_regex_to_create_columns/\n",
    "- https://docs.python.org/3.3/howto/regex.html\n",
    "- https://pandas.pydata.org/pandas-docs/stable/generated/pandas.to_datetime.html\n",
    "- https://docs.python.org/3/library/datetime.html#strftime-and-strptime-behavior\n",
    "- https://stackoverflow.com/questions/25146121/extracting-just-month-and-year-from-pandas-datetime-column-python\n",
    "- https://stackoverflow.com/questions/21137150/format-suppress-scientific-notation-from-python-pandas-aggregation-results\n",
    "- https://stackoverflow.com/questions/20937538/how-to-display-pandas-dataframe-of-floats-using-a-format-string-for-columns\n",
    "- https://pandas.pydata.org/pandas-docs/stable/options.html\n",
    "- https://matplotlib.org/gallery/lines_bars_and_markers/categorical_variables.html![image.png](attachment:image.png)"
   ]
  }
 ],
 "metadata": {
  "kernelspec": {
   "display_name": "Python 3",
   "language": "python",
   "name": "python3"
  },
  "language_info": {
   "codemirror_mode": {
    "name": "ipython",
    "version": 3
   },
   "file_extension": ".py",
   "mimetype": "text/x-python",
   "name": "python",
   "nbconvert_exporter": "python",
   "pygments_lexer": "ipython3",
   "version": "3.6.6"
  }
 },
 "nbformat": 4,
 "nbformat_minor": 2
}
