{
 "cells": [
  {
   "cell_type": "markdown",
   "metadata": {},
   "source": [
    "# Project: Prediction Keeping Reservations Of Diagnosis\n",
    "\n",
    "## Table of Contents\n",
    "<ul>\n",
    "<li><a href=\"#intro\">Introduction</a></li>\n",
    "<li><a href=\"#wrangling\">Data Wrangling</a></li>\n",
    "<li><a href=\"#eda\">Exploratory Data Analysis</a></li>\n",
    "<li><a href=\"#conclusions\">Conclusions</a></li>\n",
    "</ul>"
   ]
  },
  {
   "cell_type": "markdown",
   "metadata": {},
   "source": [
    "<a id='intro'></a>\n",
    "## Introduction\n",
    ">In this project, I will be analyzing data associated with people in Brazil coming to hospitals. <br>\n",
    "In particular, I am intrested in finding trends among the patients who actually came to their hospitals after making reservations, and how they are different from the patients who did not come.\n",
    "\n",
    ">And in the data set I will be analyzing, there are several columns that checks if the patients got specific popular diseases, Hipertension, Diabetes, Alcoholism and Handicap. I will use the words like 'specific sickness' below, and it means these diseases.<br><br>\n",
    "Here, I want to post some questions below, which I will be analyzing.\n",
    "\n",
    "### The correlations that I want to analyze<br>\n",
    "<ol>\n",
    "**\n",
    "    <li><a href=\"#one\">Age and Appointment Day</a></li>\n",
    "    <li><a href=\"#two\">Age and Presence</a></li>\n",
    "    <li><a href=\"#three\">Appointment Day and Presence</a></li>\n",
    "    <li><a href=\"#four\">SMS Receiver and Presence</a></li>\n",
    "    <li><a href=\"#five\">Sickness or Health</a></li>\n",
    "    <li><a href=\"#six\">Scholarship and Presence</a></li>\n",
    "    <li><a href=\"#seven\">Those Who Apply All</a></li>\n",
    "**\n",
    "</ol>"
   ]
  },
  {
   "cell_type": "markdown",
   "metadata": {},
   "source": [
    "<a id='wrangling'></a>\n",
    "## Data Wrangling\n",
    "In this section, I will check and clean up the data.\n",
    "\n",
    "### General Properties\n",
    ">First, I will read the data set and check data types of each columns.<br>\n",
    ">Then check a couple of concrete details of data."
   ]
  },
  {
   "cell_type": "code",
   "execution_count": 2,
   "metadata": {},
   "outputs": [],
   "source": [
    "import numpy as np\n",
    "import pandas as pd\n",
    "import matplotlib.pyplot as plt\n",
    "import seaborn as sns\n",
    "% matplotlib inline"
   ]
  },
  {
   "cell_type": "code",
   "execution_count": 3,
   "metadata": {},
   "outputs": [
    {
     "name": "stdout",
     "output_type": "stream",
     "text": [
      "<class 'pandas.core.frame.DataFrame'>\n",
      "RangeIndex: 110527 entries, 0 to 110526\n",
      "Data columns (total 14 columns):\n",
      "PatientId         110527 non-null float64\n",
      "AppointmentID     110527 non-null int64\n",
      "Gender            110527 non-null object\n",
      "ScheduledDay      110527 non-null object\n",
      "AppointmentDay    110527 non-null object\n",
      "Age               110527 non-null int64\n",
      "Neighbourhood     110527 non-null object\n",
      "Scholarship       110527 non-null int64\n",
      "Hipertension      110527 non-null int64\n",
      "Diabetes          110527 non-null int64\n",
      "Alcoholism        110527 non-null int64\n",
      "Handcap           110527 non-null int64\n",
      "SMS_received      110527 non-null int64\n",
      "No-show           110527 non-null object\n",
      "dtypes: float64(1), int64(8), object(5)\n",
      "memory usage: 11.8+ MB\n"
     ]
    },
    {
     "data": {
      "text/plain": [
       "(str, str, str, str, str)"
      ]
     },
     "execution_count": 3,
     "metadata": {},
     "output_type": "execute_result"
    }
   ],
   "source": [
    "df = pd.read_csv('noshowappointments-kagglev2-may-2016.csv')\n",
    "\n",
    "df.info()\n",
    "\n",
    "# Check the exact data type of 'object'\n",
    "type(df['Gender'][0]), type(df['ScheduledDay'][0]), type(df['AppointmentDay'][0]), type(df['Neighbourhood'][0]), type(df['No-show'][0])"
   ]
  },
  {
   "cell_type": "code",
   "execution_count": 4,
   "metadata": {},
   "outputs": [
    {
     "data": {
      "text/html": [
       "<div>\n",
       "<style scoped>\n",
       "    .dataframe tbody tr th:only-of-type {\n",
       "        vertical-align: middle;\n",
       "    }\n",
       "\n",
       "    .dataframe tbody tr th {\n",
       "        vertical-align: top;\n",
       "    }\n",
       "\n",
       "    .dataframe thead th {\n",
       "        text-align: right;\n",
       "    }\n",
       "</style>\n",
       "<table border=\"1\" class=\"dataframe\">\n",
       "  <thead>\n",
       "    <tr style=\"text-align: right;\">\n",
       "      <th></th>\n",
       "      <th>PatientId</th>\n",
       "      <th>AppointmentID</th>\n",
       "      <th>Gender</th>\n",
       "      <th>ScheduledDay</th>\n",
       "      <th>AppointmentDay</th>\n",
       "      <th>Age</th>\n",
       "      <th>Neighbourhood</th>\n",
       "      <th>Scholarship</th>\n",
       "      <th>Hipertension</th>\n",
       "      <th>Diabetes</th>\n",
       "      <th>Alcoholism</th>\n",
       "      <th>Handcap</th>\n",
       "      <th>SMS_received</th>\n",
       "      <th>No-show</th>\n",
       "    </tr>\n",
       "  </thead>\n",
       "  <tbody>\n",
       "    <tr>\n",
       "      <th>0</th>\n",
       "      <td>2.987250e+13</td>\n",
       "      <td>5642903</td>\n",
       "      <td>F</td>\n",
       "      <td>2016-04-29T18:38:08Z</td>\n",
       "      <td>2016-04-29T00:00:00Z</td>\n",
       "      <td>62</td>\n",
       "      <td>JARDIM DA PENHA</td>\n",
       "      <td>0</td>\n",
       "      <td>1</td>\n",
       "      <td>0</td>\n",
       "      <td>0</td>\n",
       "      <td>0</td>\n",
       "      <td>0</td>\n",
       "      <td>No</td>\n",
       "    </tr>\n",
       "    <tr>\n",
       "      <th>1</th>\n",
       "      <td>5.589978e+14</td>\n",
       "      <td>5642503</td>\n",
       "      <td>M</td>\n",
       "      <td>2016-04-29T16:08:27Z</td>\n",
       "      <td>2016-04-29T00:00:00Z</td>\n",
       "      <td>56</td>\n",
       "      <td>JARDIM DA PENHA</td>\n",
       "      <td>0</td>\n",
       "      <td>0</td>\n",
       "      <td>0</td>\n",
       "      <td>0</td>\n",
       "      <td>0</td>\n",
       "      <td>0</td>\n",
       "      <td>No</td>\n",
       "    </tr>\n",
       "    <tr>\n",
       "      <th>2</th>\n",
       "      <td>4.262962e+12</td>\n",
       "      <td>5642549</td>\n",
       "      <td>F</td>\n",
       "      <td>2016-04-29T16:19:04Z</td>\n",
       "      <td>2016-04-29T00:00:00Z</td>\n",
       "      <td>62</td>\n",
       "      <td>MATA DA PRAIA</td>\n",
       "      <td>0</td>\n",
       "      <td>0</td>\n",
       "      <td>0</td>\n",
       "      <td>0</td>\n",
       "      <td>0</td>\n",
       "      <td>0</td>\n",
       "      <td>No</td>\n",
       "    </tr>\n",
       "  </tbody>\n",
       "</table>\n",
       "</div>"
      ],
      "text/plain": [
       "      PatientId  AppointmentID Gender          ScheduledDay  \\\n",
       "0  2.987250e+13        5642903      F  2016-04-29T18:38:08Z   \n",
       "1  5.589978e+14        5642503      M  2016-04-29T16:08:27Z   \n",
       "2  4.262962e+12        5642549      F  2016-04-29T16:19:04Z   \n",
       "\n",
       "         AppointmentDay  Age    Neighbourhood  Scholarship  Hipertension  \\\n",
       "0  2016-04-29T00:00:00Z   62  JARDIM DA PENHA            0             1   \n",
       "1  2016-04-29T00:00:00Z   56  JARDIM DA PENHA            0             0   \n",
       "2  2016-04-29T00:00:00Z   62    MATA DA PRAIA            0             0   \n",
       "\n",
       "   Diabetes  Alcoholism  Handcap  SMS_received No-show  \n",
       "0         0           0        0             0      No  \n",
       "1         0           0        0             0      No  \n",
       "2         0           0        0             0      No  "
      ]
     },
     "execution_count": 4,
     "metadata": {},
     "output_type": "execute_result"
    }
   ],
   "source": [
    "df.head(3)"
   ]
  },
  {
   "cell_type": "markdown",
   "metadata": {},
   "source": [
    "### Data Cleaning\n",
    ">I could check brief information of this data set.<br>\n",
    "Looking at the data above, I can remove few columns because it will not be useful for this analyze.<br>\n",
    "I chose these three columns as not needed, **PatientId**, **AppointmentID**, and **Neighbourhood**.</i><br><br>\n",
    "And also, I can change few column names that are incorrect or can be better for use.<br>\n",
    "I will rename **Handcap** to **Handicap**, and **No-show** to **NoShow**.\n",
    "<br>\n",
    "\n",
    ">Thus what I will do next is<br>\n",
    "**・Remove columns<br>\n",
    "・Change columns name**"
   ]
  },
  {
   "cell_type": "code",
   "execution_count": 5,
   "metadata": {},
   "outputs": [
    {
     "data": {
      "text/html": [
       "<div>\n",
       "<style scoped>\n",
       "    .dataframe tbody tr th:only-of-type {\n",
       "        vertical-align: middle;\n",
       "    }\n",
       "\n",
       "    .dataframe tbody tr th {\n",
       "        vertical-align: top;\n",
       "    }\n",
       "\n",
       "    .dataframe thead th {\n",
       "        text-align: right;\n",
       "    }\n",
       "</style>\n",
       "<table border=\"1\" class=\"dataframe\">\n",
       "  <thead>\n",
       "    <tr style=\"text-align: right;\">\n",
       "      <th></th>\n",
       "      <th>Gender</th>\n",
       "      <th>ScheduledDay</th>\n",
       "      <th>AppointmentDay</th>\n",
       "      <th>Age</th>\n",
       "      <th>Scholarship</th>\n",
       "      <th>Hipertension</th>\n",
       "      <th>Diabetes</th>\n",
       "      <th>Alcoholism</th>\n",
       "      <th>Handicap</th>\n",
       "      <th>SMS_received</th>\n",
       "      <th>NoShow</th>\n",
       "    </tr>\n",
       "  </thead>\n",
       "  <tbody>\n",
       "    <tr>\n",
       "      <th>0</th>\n",
       "      <td>F</td>\n",
       "      <td>2016-04-29T18:38:08Z</td>\n",
       "      <td>2016-04-29T00:00:00Z</td>\n",
       "      <td>62</td>\n",
       "      <td>0</td>\n",
       "      <td>1</td>\n",
       "      <td>0</td>\n",
       "      <td>0</td>\n",
       "      <td>0</td>\n",
       "      <td>0</td>\n",
       "      <td>No</td>\n",
       "    </tr>\n",
       "  </tbody>\n",
       "</table>\n",
       "</div>"
      ],
      "text/plain": [
       "  Gender          ScheduledDay        AppointmentDay  Age  Scholarship  \\\n",
       "0      F  2016-04-29T18:38:08Z  2016-04-29T00:00:00Z   62            0   \n",
       "\n",
       "   Hipertension  Diabetes  Alcoholism  Handicap  SMS_received NoShow  \n",
       "0             1         0           0         0             0     No  "
      ]
     },
     "execution_count": 5,
     "metadata": {},
     "output_type": "execute_result"
    }
   ],
   "source": [
    "#Remove columns\n",
    "df.drop(['PatientId', 'AppointmentID', 'Neighbourhood'], axis=1, inplace=True)\n",
    "\n",
    "#Rename columns\n",
    "df = df.rename(columns = {'No-show': 'NoShow', 'Handcap': 'Handicap'})\n",
    "\n",
    "df.head(1)"
   ]
  },
  {
   "cell_type": "markdown",
   "metadata": {},
   "source": [
    ">I could delete unnecessary columns and rename few columns correctly.<br>\n",
    "Now I think in this data set there might be some duplicated data. And if there are, I need to delete them.\n",
    "\n",
    ">Thus what I will do next is<br>\n",
    "**・Check and Delete duplicated data**"
   ]
  },
  {
   "cell_type": "code",
   "execution_count": 6,
   "metadata": {},
   "outputs": [
    {
     "data": {
      "text/plain": [
       "722"
      ]
     },
     "execution_count": 6,
     "metadata": {},
     "output_type": "execute_result"
    }
   ],
   "source": [
    "df.duplicated().sum()"
   ]
  },
  {
   "cell_type": "code",
   "execution_count": 7,
   "metadata": {},
   "outputs": [
    {
     "data": {
      "text/plain": [
       "0"
      ]
     },
     "execution_count": 7,
     "metadata": {},
     "output_type": "execute_result"
    }
   ],
   "source": [
    "df.drop_duplicates(inplace=True)\n",
    "df.duplicated().sum()"
   ]
  },
  {
   "cell_type": "markdown",
   "metadata": {},
   "source": [
    ">Now I could delete duplicated data.<br><br>\n",
    "At this point, I think I need to create a new column that shows the number of days between *ScheduledDay* and *AppointmentDay*.<br>\n",
    "Let's make that with name **IntervalDay**<br>\n",
    "\n",
    ">Thus what I will do next is<br>\n",
    "**・Create a new column**"
   ]
  },
  {
   "cell_type": "code",
   "execution_count": 8,
   "metadata": {},
   "outputs": [
    {
     "data": {
      "text/html": [
       "<div>\n",
       "<style scoped>\n",
       "    .dataframe tbody tr th:only-of-type {\n",
       "        vertical-align: middle;\n",
       "    }\n",
       "\n",
       "    .dataframe tbody tr th {\n",
       "        vertical-align: top;\n",
       "    }\n",
       "\n",
       "    .dataframe thead th {\n",
       "        text-align: right;\n",
       "    }\n",
       "</style>\n",
       "<table border=\"1\" class=\"dataframe\">\n",
       "  <thead>\n",
       "    <tr style=\"text-align: right;\">\n",
       "      <th></th>\n",
       "      <th>Gender</th>\n",
       "      <th>ScheduledDay</th>\n",
       "      <th>AppointmentDay</th>\n",
       "      <th>Age</th>\n",
       "      <th>Scholarship</th>\n",
       "      <th>Hipertension</th>\n",
       "      <th>Diabetes</th>\n",
       "      <th>Alcoholism</th>\n",
       "      <th>Handicap</th>\n",
       "      <th>SMS_received</th>\n",
       "      <th>NoShow</th>\n",
       "    </tr>\n",
       "  </thead>\n",
       "  <tbody>\n",
       "    <tr>\n",
       "      <th>0</th>\n",
       "      <td>F</td>\n",
       "      <td>2016-04-29</td>\n",
       "      <td>2016-04-29</td>\n",
       "      <td>62</td>\n",
       "      <td>0</td>\n",
       "      <td>1</td>\n",
       "      <td>0</td>\n",
       "      <td>0</td>\n",
       "      <td>0</td>\n",
       "      <td>0</td>\n",
       "      <td>No</td>\n",
       "    </tr>\n",
       "    <tr>\n",
       "      <th>1</th>\n",
       "      <td>M</td>\n",
       "      <td>2016-04-29</td>\n",
       "      <td>2016-04-29</td>\n",
       "      <td>56</td>\n",
       "      <td>0</td>\n",
       "      <td>0</td>\n",
       "      <td>0</td>\n",
       "      <td>0</td>\n",
       "      <td>0</td>\n",
       "      <td>0</td>\n",
       "      <td>No</td>\n",
       "    </tr>\n",
       "    <tr>\n",
       "      <th>2</th>\n",
       "      <td>F</td>\n",
       "      <td>2016-04-29</td>\n",
       "      <td>2016-04-29</td>\n",
       "      <td>62</td>\n",
       "      <td>0</td>\n",
       "      <td>0</td>\n",
       "      <td>0</td>\n",
       "      <td>0</td>\n",
       "      <td>0</td>\n",
       "      <td>0</td>\n",
       "      <td>No</td>\n",
       "    </tr>\n",
       "    <tr>\n",
       "      <th>3</th>\n",
       "      <td>F</td>\n",
       "      <td>2016-04-29</td>\n",
       "      <td>2016-04-29</td>\n",
       "      <td>8</td>\n",
       "      <td>0</td>\n",
       "      <td>0</td>\n",
       "      <td>0</td>\n",
       "      <td>0</td>\n",
       "      <td>0</td>\n",
       "      <td>0</td>\n",
       "      <td>No</td>\n",
       "    </tr>\n",
       "    <tr>\n",
       "      <th>4</th>\n",
       "      <td>F</td>\n",
       "      <td>2016-04-29</td>\n",
       "      <td>2016-04-29</td>\n",
       "      <td>56</td>\n",
       "      <td>0</td>\n",
       "      <td>1</td>\n",
       "      <td>1</td>\n",
       "      <td>0</td>\n",
       "      <td>0</td>\n",
       "      <td>0</td>\n",
       "      <td>No</td>\n",
       "    </tr>\n",
       "  </tbody>\n",
       "</table>\n",
       "</div>"
      ],
      "text/plain": [
       "  Gender ScheduledDay AppointmentDay  Age  Scholarship  Hipertension  \\\n",
       "0      F   2016-04-29     2016-04-29   62            0             1   \n",
       "1      M   2016-04-29     2016-04-29   56            0             0   \n",
       "2      F   2016-04-29     2016-04-29   62            0             0   \n",
       "3      F   2016-04-29     2016-04-29    8            0             0   \n",
       "4      F   2016-04-29     2016-04-29   56            0             1   \n",
       "\n",
       "   Diabetes  Alcoholism  Handicap  SMS_received NoShow  \n",
       "0         0           0         0             0     No  \n",
       "1         0           0         0             0     No  \n",
       "2         0           0         0             0     No  \n",
       "3         0           0         0             0     No  \n",
       "4         1           0         0             0     No  "
      ]
     },
     "execution_count": 8,
     "metadata": {},
     "output_type": "execute_result"
    }
   ],
   "source": [
    "# First, make a copy dataset and change specific columns' data.\n",
    "# change datetime data to only Year-Month-Day.\n",
    "\n",
    "copy = df.copy()\n",
    "\n",
    "copy['ScheduledDay'] = copy['ScheduledDay'].astype(str)\n",
    "copy['ScheduledDay'] = copy['ScheduledDay'].apply(lambda x: x.split('T')[0])\n",
    "\n",
    "copy['AppointmentDay'] = copy['AppointmentDay'].astype(str)\n",
    "copy['AppointmentDay'] = copy['AppointmentDay'].apply(lambda x: x.split('T')[0])\n",
    "\n",
    "copy.head()"
   ]
  },
  {
   "cell_type": "code",
   "execution_count": 9,
   "metadata": {},
   "outputs": [
    {
     "data": {
      "text/html": [
       "<div>\n",
       "<style scoped>\n",
       "    .dataframe tbody tr th:only-of-type {\n",
       "        vertical-align: middle;\n",
       "    }\n",
       "\n",
       "    .dataframe tbody tr th {\n",
       "        vertical-align: top;\n",
       "    }\n",
       "\n",
       "    .dataframe thead th {\n",
       "        text-align: right;\n",
       "    }\n",
       "</style>\n",
       "<table border=\"1\" class=\"dataframe\">\n",
       "  <thead>\n",
       "    <tr style=\"text-align: right;\">\n",
       "      <th></th>\n",
       "      <th>Gender</th>\n",
       "      <th>ScheduledDay</th>\n",
       "      <th>AppointmentDay</th>\n",
       "      <th>DayInterval</th>\n",
       "      <th>Age</th>\n",
       "      <th>Scholarship</th>\n",
       "      <th>Hipertension</th>\n",
       "      <th>Diabetes</th>\n",
       "      <th>Alcoholism</th>\n",
       "      <th>Handicap</th>\n",
       "      <th>SMS_received</th>\n",
       "      <th>NoShow</th>\n",
       "    </tr>\n",
       "  </thead>\n",
       "  <tbody>\n",
       "    <tr>\n",
       "      <th>0</th>\n",
       "      <td>F</td>\n",
       "      <td>2016-04-29</td>\n",
       "      <td>2016-04-29</td>\n",
       "      <td>0 days</td>\n",
       "      <td>62</td>\n",
       "      <td>0</td>\n",
       "      <td>1</td>\n",
       "      <td>0</td>\n",
       "      <td>0</td>\n",
       "      <td>0</td>\n",
       "      <td>0</td>\n",
       "      <td>No</td>\n",
       "    </tr>\n",
       "  </tbody>\n",
       "</table>\n",
       "</div>"
      ],
      "text/plain": [
       "  Gender ScheduledDay AppointmentDay DayInterval  Age  Scholarship  \\\n",
       "0      F   2016-04-29     2016-04-29      0 days   62            0   \n",
       "\n",
       "   Hipertension  Diabetes  Alcoholism  Handicap  SMS_received NoShow  \n",
       "0             1         0           0         0             0     No  "
      ]
     },
     "execution_count": 9,
     "metadata": {},
     "output_type": "execute_result"
    }
   ],
   "source": [
    "# Second, Create a new column and insert it to the copy dataset.\n",
    "\n",
    "copy['ScheduledDay'] = pd.to_datetime(copy['ScheduledDay'])\n",
    "copy['AppointmentDay'] = pd.to_datetime(copy['AppointmentDay'])\n",
    "\n",
    "DayInterval = copy['AppointmentDay'] - copy['ScheduledDay']\n",
    "copy.insert(3, 'DayInterval', DayInterval)\n",
    "\n",
    "copy.head(1)"
   ]
  },
  {
   "cell_type": "code",
   "execution_count": 10,
   "metadata": {},
   "outputs": [
    {
     "data": {
      "text/html": [
       "<div>\n",
       "<style scoped>\n",
       "    .dataframe tbody tr th:only-of-type {\n",
       "        vertical-align: middle;\n",
       "    }\n",
       "\n",
       "    .dataframe tbody tr th {\n",
       "        vertical-align: top;\n",
       "    }\n",
       "\n",
       "    .dataframe thead th {\n",
       "        text-align: right;\n",
       "    }\n",
       "</style>\n",
       "<table border=\"1\" class=\"dataframe\">\n",
       "  <thead>\n",
       "    <tr style=\"text-align: right;\">\n",
       "      <th></th>\n",
       "      <th>Gender</th>\n",
       "      <th>ScheduledDay</th>\n",
       "      <th>AppointmentDay</th>\n",
       "      <th>DayInterval</th>\n",
       "      <th>Age</th>\n",
       "      <th>Scholarship</th>\n",
       "      <th>Hipertension</th>\n",
       "      <th>Diabetes</th>\n",
       "      <th>Alcoholism</th>\n",
       "      <th>Handicap</th>\n",
       "      <th>SMS_received</th>\n",
       "      <th>NoShow</th>\n",
       "    </tr>\n",
       "  </thead>\n",
       "  <tbody>\n",
       "    <tr>\n",
       "      <th>0</th>\n",
       "      <td>F</td>\n",
       "      <td>2016-04-29</td>\n",
       "      <td>2016-04-29</td>\n",
       "      <td>0</td>\n",
       "      <td>62</td>\n",
       "      <td>0</td>\n",
       "      <td>1</td>\n",
       "      <td>0</td>\n",
       "      <td>0</td>\n",
       "      <td>0</td>\n",
       "      <td>0</td>\n",
       "      <td>No</td>\n",
       "    </tr>\n",
       "  </tbody>\n",
       "</table>\n",
       "</div>"
      ],
      "text/plain": [
       "  Gender ScheduledDay AppointmentDay  DayInterval  Age  Scholarship  \\\n",
       "0      F   2016-04-29     2016-04-29            0   62            0   \n",
       "\n",
       "   Hipertension  Diabetes  Alcoholism  Handicap  SMS_received NoShow  \n",
       "0             1         0           0         0             0     No  "
      ]
     },
     "execution_count": 10,
     "metadata": {},
     "output_type": "execute_result"
    }
   ],
   "source": [
    "# Third, change the data type of the new data set to int.\n",
    "#To do that, extract only numbers in each data.\n",
    "\n",
    "copy['DayInterval'] = (copy['DayInterval'] / np.timedelta64(1, 'D')).astype(int)\n",
    "\n",
    "copy.head(1)"
   ]
  },
  {
   "cell_type": "code",
   "execution_count": 11,
   "metadata": {},
   "outputs": [
    {
     "data": {
      "text/html": [
       "<div>\n",
       "<style scoped>\n",
       "    .dataframe tbody tr th:only-of-type {\n",
       "        vertical-align: middle;\n",
       "    }\n",
       "\n",
       "    .dataframe tbody tr th {\n",
       "        vertical-align: top;\n",
       "    }\n",
       "\n",
       "    .dataframe thead th {\n",
       "        text-align: right;\n",
       "    }\n",
       "</style>\n",
       "<table border=\"1\" class=\"dataframe\">\n",
       "  <thead>\n",
       "    <tr style=\"text-align: right;\">\n",
       "      <th></th>\n",
       "      <th>Age</th>\n",
       "      <th>Alcoholism</th>\n",
       "      <th>AppointmentDay</th>\n",
       "      <th>DayInterval</th>\n",
       "      <th>Diabetes</th>\n",
       "      <th>Gender</th>\n",
       "      <th>Handicap</th>\n",
       "      <th>Hipertension</th>\n",
       "      <th>NoShow</th>\n",
       "      <th>SMS_received</th>\n",
       "      <th>ScheduledDay</th>\n",
       "      <th>Scholarship</th>\n",
       "    </tr>\n",
       "  </thead>\n",
       "  <tbody>\n",
       "    <tr>\n",
       "      <th>0</th>\n",
       "      <td>62</td>\n",
       "      <td>0</td>\n",
       "      <td>2016-04-29</td>\n",
       "      <td>0.0</td>\n",
       "      <td>0</td>\n",
       "      <td>F</td>\n",
       "      <td>0</td>\n",
       "      <td>1</td>\n",
       "      <td>No</td>\n",
       "      <td>0</td>\n",
       "      <td>2016-04-29</td>\n",
       "      <td>0</td>\n",
       "    </tr>\n",
       "  </tbody>\n",
       "</table>\n",
       "</div>"
      ],
      "text/plain": [
       "   Age  Alcoholism AppointmentDay  DayInterval  Diabetes Gender  Handicap  \\\n",
       "0   62           0     2016-04-29          0.0         0      F         0   \n",
       "\n",
       "   Hipertension NoShow  SMS_received ScheduledDay  Scholarship  \n",
       "0             1     No             0   2016-04-29            0  "
      ]
     },
     "execution_count": 11,
     "metadata": {},
     "output_type": "execute_result"
    }
   ],
   "source": [
    "#Fourth, apply edited dataset to the original one.\n",
    "\n",
    "df.drop(df.index, inplace=True)\n",
    "df = df.append(copy)\n",
    "df.head(1)"
   ]
  },
  {
   "cell_type": "code",
   "execution_count": 12,
   "metadata": {},
   "outputs": [
    {
     "data": {
      "text/html": [
       "<div>\n",
       "<style scoped>\n",
       "    .dataframe tbody tr th:only-of-type {\n",
       "        vertical-align: middle;\n",
       "    }\n",
       "\n",
       "    .dataframe tbody tr th {\n",
       "        vertical-align: top;\n",
       "    }\n",
       "\n",
       "    .dataframe thead th {\n",
       "        text-align: right;\n",
       "    }\n",
       "</style>\n",
       "<table border=\"1\" class=\"dataframe\">\n",
       "  <thead>\n",
       "    <tr style=\"text-align: right;\">\n",
       "      <th></th>\n",
       "      <th>Gender</th>\n",
       "      <th>ScheduledDay</th>\n",
       "      <th>AppointmentDay</th>\n",
       "      <th>DayInterval</th>\n",
       "      <th>Age</th>\n",
       "      <th>Scholarship</th>\n",
       "      <th>Hipertension</th>\n",
       "      <th>Diabetes</th>\n",
       "      <th>Alcoholism</th>\n",
       "      <th>Handicap</th>\n",
       "      <th>SMS_received</th>\n",
       "      <th>NoShow</th>\n",
       "    </tr>\n",
       "  </thead>\n",
       "  <tbody>\n",
       "    <tr>\n",
       "      <th>0</th>\n",
       "      <td>F</td>\n",
       "      <td>2016-04-29</td>\n",
       "      <td>2016-04-29</td>\n",
       "      <td>0</td>\n",
       "      <td>62</td>\n",
       "      <td>0</td>\n",
       "      <td>1</td>\n",
       "      <td>0</td>\n",
       "      <td>0</td>\n",
       "      <td>0</td>\n",
       "      <td>0</td>\n",
       "      <td>No</td>\n",
       "    </tr>\n",
       "  </tbody>\n",
       "</table>\n",
       "</div>"
      ],
      "text/plain": [
       "  Gender ScheduledDay AppointmentDay  DayInterval  Age  Scholarship  \\\n",
       "0      F   2016-04-29     2016-04-29            0   62            0   \n",
       "\n",
       "   Hipertension  Diabetes  Alcoholism  Handicap  SMS_received NoShow  \n",
       "0             1         0           0         0             0     No  "
      ]
     },
     "execution_count": 12,
     "metadata": {},
     "output_type": "execute_result"
    }
   ],
   "source": [
    "#Last, order the columns as original one.\n",
    "\n",
    "cols = ['Gender','ScheduledDay','AppointmentDay','DayInterval','Age','Scholarship','Hipertension','Diabetes','Alcoholism','Handicap','SMS_received','NoShow']\n",
    "df = df[cols]\n",
    "\n",
    "#And change data type from float to int\n",
    "df.DayInterval = df.DayInterval.astype(int)\n",
    "\n",
    "df.head(1)"
   ]
  },
  {
   "cell_type": "markdown",
   "metadata": {},
   "source": [
    "<a id='eda'></a>\n",
    "## Exploratory Data Analysis\n",
    "\n",
    ">Now that I have trimmed and cleaned the data, I am ready to move on to exploration. <br>\n",
    "I will compute statistics and create visualizations with the goal of addressing the research questions that I posed in the Introduction section.<br>\n",
    "I will follow it up by looking at relationships between variables.\n",
    "\n",
    "### Grasp The Overall"
   ]
  },
  {
   "cell_type": "markdown",
   "metadata": {},
   "source": [
    ">Before I start analyzing each questions, let me understand overall of the dataset first.<br>\n",
    "I will look at data according to the descriptive statistics."
   ]
  },
  {
   "cell_type": "code",
   "execution_count": 13,
   "metadata": {},
   "outputs": [
    {
     "data": {
      "text/html": [
       "<div>\n",
       "<style scoped>\n",
       "    .dataframe tbody tr th:only-of-type {\n",
       "        vertical-align: middle;\n",
       "    }\n",
       "\n",
       "    .dataframe tbody tr th {\n",
       "        vertical-align: top;\n",
       "    }\n",
       "\n",
       "    .dataframe thead th {\n",
       "        text-align: right;\n",
       "    }\n",
       "</style>\n",
       "<table border=\"1\" class=\"dataframe\">\n",
       "  <thead>\n",
       "    <tr style=\"text-align: right;\">\n",
       "      <th></th>\n",
       "      <th>DayInterval</th>\n",
       "      <th>Age</th>\n",
       "      <th>Scholarship</th>\n",
       "      <th>Hipertension</th>\n",
       "      <th>Diabetes</th>\n",
       "      <th>Alcoholism</th>\n",
       "      <th>Handicap</th>\n",
       "      <th>SMS_received</th>\n",
       "    </tr>\n",
       "  </thead>\n",
       "  <tbody>\n",
       "    <tr>\n",
       "      <th>count</th>\n",
       "      <td>109805.000000</td>\n",
       "      <td>109805.000000</td>\n",
       "      <td>109805.000000</td>\n",
       "      <td>109805.000000</td>\n",
       "      <td>109805.000000</td>\n",
       "      <td>109805.000000</td>\n",
       "      <td>109805.000000</td>\n",
       "      <td>109805.000000</td>\n",
       "    </tr>\n",
       "    <tr>\n",
       "      <th>mean</th>\n",
       "      <td>10.164865</td>\n",
       "      <td>37.105205</td>\n",
       "      <td>0.098347</td>\n",
       "      <td>0.197386</td>\n",
       "      <td>0.071882</td>\n",
       "      <td>0.030454</td>\n",
       "      <td>0.022148</td>\n",
       "      <td>0.323118</td>\n",
       "    </tr>\n",
       "    <tr>\n",
       "      <th>std</th>\n",
       "      <td>15.254650</td>\n",
       "      <td>23.120722</td>\n",
       "      <td>0.297785</td>\n",
       "      <td>0.398028</td>\n",
       "      <td>0.258294</td>\n",
       "      <td>0.171834</td>\n",
       "      <td>0.160941</td>\n",
       "      <td>0.467670</td>\n",
       "    </tr>\n",
       "    <tr>\n",
       "      <th>min</th>\n",
       "      <td>-6.000000</td>\n",
       "      <td>-1.000000</td>\n",
       "      <td>0.000000</td>\n",
       "      <td>0.000000</td>\n",
       "      <td>0.000000</td>\n",
       "      <td>0.000000</td>\n",
       "      <td>0.000000</td>\n",
       "      <td>0.000000</td>\n",
       "    </tr>\n",
       "    <tr>\n",
       "      <th>25%</th>\n",
       "      <td>0.000000</td>\n",
       "      <td>18.000000</td>\n",
       "      <td>0.000000</td>\n",
       "      <td>0.000000</td>\n",
       "      <td>0.000000</td>\n",
       "      <td>0.000000</td>\n",
       "      <td>0.000000</td>\n",
       "      <td>0.000000</td>\n",
       "    </tr>\n",
       "    <tr>\n",
       "      <th>50%</th>\n",
       "      <td>4.000000</td>\n",
       "      <td>37.000000</td>\n",
       "      <td>0.000000</td>\n",
       "      <td>0.000000</td>\n",
       "      <td>0.000000</td>\n",
       "      <td>0.000000</td>\n",
       "      <td>0.000000</td>\n",
       "      <td>0.000000</td>\n",
       "    </tr>\n",
       "    <tr>\n",
       "      <th>75%</th>\n",
       "      <td>15.000000</td>\n",
       "      <td>55.000000</td>\n",
       "      <td>0.000000</td>\n",
       "      <td>0.000000</td>\n",
       "      <td>0.000000</td>\n",
       "      <td>0.000000</td>\n",
       "      <td>0.000000</td>\n",
       "      <td>1.000000</td>\n",
       "    </tr>\n",
       "    <tr>\n",
       "      <th>max</th>\n",
       "      <td>179.000000</td>\n",
       "      <td>115.000000</td>\n",
       "      <td>1.000000</td>\n",
       "      <td>1.000000</td>\n",
       "      <td>1.000000</td>\n",
       "      <td>1.000000</td>\n",
       "      <td>4.000000</td>\n",
       "      <td>1.000000</td>\n",
       "    </tr>\n",
       "  </tbody>\n",
       "</table>\n",
       "</div>"
      ],
      "text/plain": [
       "         DayInterval            Age    Scholarship   Hipertension  \\\n",
       "count  109805.000000  109805.000000  109805.000000  109805.000000   \n",
       "mean       10.164865      37.105205       0.098347       0.197386   \n",
       "std        15.254650      23.120722       0.297785       0.398028   \n",
       "min        -6.000000      -1.000000       0.000000       0.000000   \n",
       "25%         0.000000      18.000000       0.000000       0.000000   \n",
       "50%         4.000000      37.000000       0.000000       0.000000   \n",
       "75%        15.000000      55.000000       0.000000       0.000000   \n",
       "max       179.000000     115.000000       1.000000       1.000000   \n",
       "\n",
       "            Diabetes     Alcoholism       Handicap   SMS_received  \n",
       "count  109805.000000  109805.000000  109805.000000  109805.000000  \n",
       "mean        0.071882       0.030454       0.022148       0.323118  \n",
       "std         0.258294       0.171834       0.160941       0.467670  \n",
       "min         0.000000       0.000000       0.000000       0.000000  \n",
       "25%         0.000000       0.000000       0.000000       0.000000  \n",
       "50%         0.000000       0.000000       0.000000       0.000000  \n",
       "75%         0.000000       0.000000       0.000000       1.000000  \n",
       "max         1.000000       1.000000       4.000000       1.000000  "
      ]
     },
     "execution_count": 13,
     "metadata": {},
     "output_type": "execute_result"
    }
   ],
   "source": [
    "df.describe()"
   ]
  },
  {
   "cell_type": "markdown",
   "metadata": {},
   "source": [
    "<a id=\"one\"></a>\n",
    "### 1. Age and Appointment Day\n",
    "> I will separate the dataset into two to investigate the difference. <br>\n",
    "One is for the people made reservations on that day, and another is 1day before or more."
   ]
  },
  {
   "cell_type": "code",
   "execution_count": 14,
   "metadata": {},
   "outputs": [],
   "source": [
    "#Separate the dataset.\n",
    "that_day = df.query(\"DayInterval == 0\")\n",
    "previous_day = df.query(\"DayInterval != 0\")"
   ]
  },
  {
   "cell_type": "code",
   "execution_count": 15,
   "metadata": {},
   "outputs": [
    {
     "data": {
      "image/png": "[encoded data removed]",
      "text/plain": [
       "<Figure size 1080x720 with 9 Axes>"
      ]
     },
     "metadata": {},
     "output_type": "display_data"
    }
   ],
   "source": [
    "#Display all histogram of each dataset.\n",
    "that_day.hist(figsize=(15,10));"
   ]
  },
  {
   "cell_type": "code",
   "execution_count": 16,
   "metadata": {},
   "outputs": [
    {
     "data": {
      "image/png": "[encoded data removed]",
      "text/plain": [
       "<Figure size 1080x720 with 9 Axes>"
      ]
     },
     "metadata": {},
     "output_type": "display_data"
    }
   ],
   "source": [
    "previous_day.hist(figsize=(15,10));"
   ]
  },
  {
   "cell_type": "markdown",
   "metadata": {
    "collapsed": true
   },
   "source": [
    ">Looking at the histograms above, there seem to be several differences.<br>\n",
    "**Age**, **DayInterval**(definitely), and **SMS_received** histograms.<br><br>\n",
    "Let's see proportion of patients age separated by appointment day in histograms first."
   ]
  },
  {
   "cell_type": "code",
   "execution_count": 17,
   "metadata": {
    "scrolled": true
   },
   "outputs": [
    {
     "data": {
      "image/png": "[encoded data removed]",
      "text/plain": [
       "<Figure size 432x360 with 1 Axes>"
      ]
     },
     "metadata": {},
     "output_type": "display_data"
    }
   ],
   "source": [
    "that_day.Age.hist(figsize=(6,5), bins=20, density=True, color='blue', alpha=0.5, label='That day')\n",
    "previous_day.Age.hist(figsize=(6,5), bins=20, density=True, color='orange', alpha=0.5, label='In Advance')\n",
    "\n",
    "plt.title('Propotion by Age of Making Reservation In Advance or That day')\n",
    "plt.xlabel('Age')\n",
    "plt.ylabel('Propotion')\n",
    "plt.legend();"
   ]
  },
  {
   "cell_type": "markdown",
   "metadata": {},
   "source": [
    ">It shows young age(especially 0-20 years old) make reservations of diagnosis on that day,<br>\n",
    "and senior age(especially 50-100 years old) tend to do in advance."
   ]
  },
  {
   "cell_type": "markdown",
   "metadata": {},
   "source": [
    "<a id=\"two\"></a>\n",
    "### 2. Age and Presence\n",
    ">In this section, I will check if age difference causes proportion of presence.<br>\n",
    "According to the result above, the mean age of the patients is about **37**.<br>\n",
    "So separating the dataset again, with a boundary of the age mean."
   ]
  },
  {
   "cell_type": "code",
   "execution_count": 18,
   "metadata": {},
   "outputs": [],
   "source": [
    "# Separate the dataset into two, more than the mean of  age and less than that.\n",
    "\n",
    "first_age = df[df['Age'] < df['Age'].mean()]\n",
    "second_age = df[df['Age'] >= df['Age'].mean()]"
   ]
  },
  {
   "cell_type": "code",
   "execution_count": 19,
   "metadata": {
    "scrolled": true
   },
   "outputs": [
    {
     "data": {
      "image/png": "[encoded data removed]",
      "text/plain": [
       "<Figure size 360x360 with 1 Axes>"
      ]
     },
     "metadata": {},
     "output_type": "display_data"
    }
   ],
   "source": [
    "# Then, display each proportion by pie chart.\n",
    "# The reanson why I chose this type of chart is just this is my taste.\n",
    "\n",
    "first_age.NoShow.value_counts().plot(kind='pie', figsize=(5, 5))\n",
    "plt.title('Propotions of Presense among People younger than 37 years old');"
   ]
  },
  {
   "cell_type": "code",
   "execution_count": 20,
   "metadata": {},
   "outputs": [
    {
     "data": {
      "image/png": "[encoded data removed]",
      "text/plain": [
       "<Figure size 360x360 with 1 Axes>"
      ]
     },
     "metadata": {},
     "output_type": "display_data"
    }
   ],
   "source": [
    "second_age.NoShow.value_counts().plot(kind='pie', figsize=(5, 5))\n",
    "plt.title('Propotions of Presense among People older than 37 years old');"
   ]
  },
  {
   "cell_type": "markdown",
   "metadata": {},
   "source": [
    ">Comparing with these two pie chart, people below 37 years old tend to be absent from the hospital, slightly."
   ]
  },
  {
   "cell_type": "markdown",
   "metadata": {},
   "source": [
    "<a id=\"three\"></a>\n",
    "### 3. Appointment Day and Presence\n",
    "\n",
    ">For now, I checked the correlation of `Age and Appointment Day` and `Age and Presence`.<br>\n",
    "Then how is the relationship of `Appointment Day and Presence`?<br><br>\n",
    "To do this, let's separate the dataset for now, those who made appointment on that day or not.\n",
    "\n",
    ">From here, these variables will be used for many times to display good bar charts.<br>\n",
    "I will show here separatedly for easy checking back."
   ]
  },
  {
   "cell_type": "code",
   "execution_count": 21,
   "metadata": {},
   "outputs": [],
   "source": [
    "#They will be used a lot for discribing charts.\n",
    "ind = np.arange(2)\n",
    "width = 0.25\n",
    "width2 = width+0.01"
   ]
  },
  {
   "cell_type": "markdown",
   "metadata": {},
   "source": [
    ">Now let's start the analyzing."
   ]
  },
  {
   "cell_type": "code",
   "execution_count": 22,
   "metadata": {
    "scrolled": false
   },
   "outputs": [
    {
     "data": {
      "image/png": "[encoded data removed]",
      "text/plain": [
       "<Figure size 432x288 with 1 Axes>"
      ]
     },
     "metadata": {},
     "output_type": "display_data"
    }
   ],
   "source": [
    "# First, separate dataset. Those who made appointments on that day or not.\n",
    "\n",
    "that = that_day.NoShow.value_counts() / that_day.shape[0]\n",
    "previous = previous_day.NoShow.value_counts() / previous_day.shape[0]\n",
    "\n",
    "plt.bar(ind, that,width, label='That Day')\n",
    "plt.bar(ind+width+0.01, previous, width, label='Previous Days')\n",
    "locations = ind+width2 / 2\n",
    "\n",
    "label = ['Show', 'Not Show']\n",
    "plt.xticks(locations, label)\n",
    "plt.title('Proportion of People Showed or Not Grouped by Appointment Date')\n",
    "\n",
    "plt.legend();"
   ]
  },
  {
   "cell_type": "markdown",
   "metadata": {},
   "source": [
    ">It might be natural, but those who made appointments on that day are less absent from the hospital.<br>\n",
    "And people made appointments before that day are absent more.<br>\n",
    "I guess it is simply because the latter forgot the appointment.\n",
    "\n",
    "\n",
    ">If the problem is if they forgot it or not, those who made appointments on that day are less likely to do that.<br>\n",
    "So next, focus on only people made reservation 1day before or more, and separate this group by mean of days before diagnosis day."
   ]
  },
  {
   "cell_type": "code",
   "execution_count": 23,
   "metadata": {},
   "outputs": [
    {
     "data": {
      "text/plain": [
       "179"
      ]
     },
     "execution_count": 23,
     "metadata": {},
     "output_type": "execute_result"
    }
   ],
   "source": [
    "# Extract the data except the people made reservation on that day.\n",
    "#And check the max value.(min is 1)\n",
    "\n",
    "before_day = df.query('DayInterval >= 1')\n",
    "before_day.DayInterval.max()"
   ]
  },
  {
   "cell_type": "markdown",
   "metadata": {},
   "source": [
    ">A person made appointment **179days** before in advance...<br>\n",
    "That would influence the mean, so let's take the median of IntervalDay."
   ]
  },
  {
   "cell_type": "code",
   "execution_count": 24,
   "metadata": {},
   "outputs": [
    {
     "data": {
      "text/plain": [
       "9.0"
      ]
     },
     "execution_count": 24,
     "metadata": {},
     "output_type": "execute_result"
    }
   ],
   "source": [
    "before_day.DayInterval.median()"
   ]
  },
  {
   "cell_type": "markdown",
   "metadata": {},
   "source": [
    ">This value is understandable. I will separate the dataset IntervalDay is more than 9days or less.<br>\n",
    "And then, calculate the proportion of each dataset, whether they showed or not."
   ]
  },
  {
   "cell_type": "code",
   "execution_count": 25,
   "metadata": {},
   "outputs": [],
   "source": [
    "#Separate the dataset and calculate the proportion.\n",
    "\n",
    "short = before_day.query('1<= DayInterval <= 9')\n",
    "long = before_day.query('DayInterval > 9')\n",
    "\n",
    "short_show = short.groupby('NoShow').count()['Age']\n",
    "short_count = short.count()['Age']\n",
    "\n",
    "long_show = long.groupby('NoShow').count()['Age']\n",
    "long_count = long.count()['Age']\n",
    "\n",
    "short_proportions = short_show / short_count\n",
    "long_proportions = long_show / long_count"
   ]
  },
  {
   "cell_type": "markdown",
   "metadata": {},
   "source": [
    ">Finally, visualize their data as bar charts."
   ]
  },
  {
   "cell_type": "code",
   "execution_count": 26,
   "metadata": {},
   "outputs": [
    {
     "data": {
      "image/png": "[encoded data removed]",
      "text/plain": [
       "<Figure size 432x288 with 1 Axes>"
      ]
     },
     "metadata": {},
     "output_type": "display_data"
    }
   ],
   "source": [
    "# Display the result as bar chart.\n",
    "\n",
    "short_bars = plt.bar(ind, short_proportions, width-0.01, label='1-9 Days')\n",
    "long_bars = plt.bar(ind + width, long_proportions, width-0.01, label='More Than 9 Days')\n",
    "\n",
    "plt.ylabel('Proportion')\n",
    "plt.xlabel('Presence')\n",
    "plt.title('Days Between Appointment Date and Diagnosis Date')\n",
    "labels = ['Show', 'Not Show']\n",
    "plt.xticks(locations, labels)\n",
    "\n",
    "plt.legend();"
   ]
  },
  {
   "cell_type": "markdown",
   "metadata": {},
   "source": [
    ">This shows people made reservation before more than 9days did not show more than bofore 9days."
   ]
  },
  {
   "cell_type": "markdown",
   "metadata": {},
   "source": [
    "<a id=\"four\"></a>\n",
    "### 4. SMS Receiver and Presence\n",
    ">In this section, I will see how presence rate will differ by if people receive SMS or not.<br>\n",
    "As I guess, if the problem of not showing is just forgetting, SMS can prevent us from that.\n",
    "\n",
    ">As well, separate the dataset if people receive SMS or not first, and check the proportion."
   ]
  },
  {
   "cell_type": "code",
   "execution_count": 27,
   "metadata": {},
   "outputs": [],
   "source": [
    "#Separate the dataset if getting SMS or not.\n",
    "\n",
    "sms = df.query(\"SMS_received == 1\")\n",
    "no_sms = df.query(\"SMS_received == 0\")"
   ]
  },
  {
   "cell_type": "code",
   "execution_count": 28,
   "metadata": {},
   "outputs": [
    {
     "data": {
      "image/png": "[encoded data removed]",
      "text/plain": [
       "<Figure size 432x288 with 1 Axes>"
      ]
     },
     "metadata": {},
     "output_type": "display_data"
    }
   ],
   "source": [
    "#Calculating the each proportions and show them.\n",
    "\n",
    "sms_receive = sms.NoShow.value_counts() / sms.shape[0]\n",
    "nosms_receive = no_sms.NoShow.value_counts() / no_sms.shape[0]\n",
    "\n",
    "plt.bar(ind, sms_receive,width, label='Receive SMS')\n",
    "plt.bar(ind+width+0.01, nosms_receive, width, label='Not Receive SMS')\n",
    "label = ['Show', 'Not Show']\n",
    "plt.xticks(locations, label)\n",
    "plt.title('Proportion of People Showed or Not Grouped by SMS Received')\n",
    "plt.legend();"
   ]
  },
  {
   "cell_type": "markdown",
   "metadata": {},
   "source": [
    ">Surprisingly, people did not get the SMS came hospitals more than those who got them! But it looks weird.<br>\n",
    "Looking back to <a href=\"#one\">the graph of making appointment on that day or not</a>, it turned out that SMS was not sent to that-day-people.<br>\n",
    "So let's calculate again except them."
   ]
  },
  {
   "cell_type": "code",
   "execution_count": 29,
   "metadata": {},
   "outputs": [
    {
     "data": {
      "image/png": "[encoded data removed]",
      "text/plain": [
       "<Figure size 432x288 with 1 Axes>"
      ]
     },
     "metadata": {},
     "output_type": "display_data"
    }
   ],
   "source": [
    "true_no_sms = no_sms.query('DayInterval >=1')\n",
    "true_no_sms_receive = true_no_sms.NoShow.value_counts() / true_no_sms.shape[0]\n",
    "\n",
    "plt.bar(ind, sms_receive,width, label='Receive SMS')\n",
    "plt.bar(ind+width+0.01, true_no_sms_receive, width, label='Not Receive SMS')\n",
    "label = ['Show', 'Not Show']\n",
    "plt.xticks(locations, label)\n",
    "plt.title('Proportion of People Showed or Not Grouped by SMS Received')\n",
    "plt.legend();"
   ]
  },
  {
   "cell_type": "markdown",
   "metadata": {},
   "source": [
    ">The result changed to reasonable one.<br>\n",
    "By this, Those who received SMS are less absent than those who did not.<br>\n",
    "But because this is very little bit difference, it is not sure SMS can influence the presence rate."
   ]
  },
  {
   "cell_type": "markdown",
   "metadata": {},
   "source": [
    "<a id=\"five\"></a>\n",
    "### 5. Sickness or Health\n",
    "\n",
    ">Next, I will focus on if patients had specific sick or not.<br>\n",
    "What characteristics the sick people have, or do they come the hospital more than the health, etc.<br>\n",
    "And see how gender matters as well.\n",
    "\n",
    ">First, separate the dataset. One is for the sick, another for the health."
   ]
  },
  {
   "cell_type": "code",
   "execution_count": 30,
   "metadata": {},
   "outputs": [],
   "source": [
    "sick = df.query('Hipertension == 1or Diabetes == 1or Alcoholism == 1 or Handicap == 1')\n",
    "health = df.query('Hipertension == 0 and Diabetes == 0 and Alcoholism == 0 and Handicap == 0')"
   ]
  },
  {
   "cell_type": "markdown",
   "metadata": {},
   "source": [
    ">Then, see the each histogram of age."
   ]
  },
  {
   "cell_type": "code",
   "execution_count": 31,
   "metadata": {},
   "outputs": [
    {
     "data": {
      "image/png": "[encoded data removed]",
      "text/plain": [
       "<Figure size 432x288 with 1 Axes>"
      ]
     },
     "metadata": {},
     "output_type": "display_data"
    }
   ],
   "source": [
    "health.Age.hist(label='health', bins=20, alpha=0.7)\n",
    "sick.Age.hist(label='sick', bins=20, alpha=0.7)\n",
    "plt.title('Age and Health')\n",
    "plt.legend();"
   ]
  },
  {
   "cell_type": "markdown",
   "metadata": {},
   "source": [
    ">It shows the older they are, they have some specific disease.<br>\n",
    "In this data, I defined sick people as people have one specific disease or more.\n",
    "\n",
    ">Next, check the presence rate of sick people and health people."
   ]
  },
  {
   "cell_type": "code",
   "execution_count": 32,
   "metadata": {},
   "outputs": [
    {
     "data": {
      "image/png": "[encoded data removed]",
      "text/plain": [
       "<Figure size 432x288 with 1 Axes>"
      ]
     },
     "metadata": {},
     "output_type": "display_data"
    }
   ],
   "source": [
    "sick_show = sick.NoShow.value_counts() / sick.shape[0]\n",
    "health_show = health.NoShow.value_counts() / health.shape[0]\n",
    "plt.bar(ind, sick_show, width, label='Sick')\n",
    "plt.bar(ind+width2, health_show, width, label='Health')\n",
    "plt.xticks(locations, label)\n",
    "plt.title('Proportion by Helath and Presence')\n",
    "plt.legend();"
   ]
  },
  {
   "cell_type": "markdown",
   "metadata": {},
   "source": [
    ">The sick people come to the hospital more than the health people.<br>\n",
    "I guess it is because they came to heal their sickness.\n",
    "\n",
    ">At this point, I want to check gender rate of this dataset."
   ]
  },
  {
   "cell_type": "code",
   "execution_count": 33,
   "metadata": {},
   "outputs": [
    {
     "data": {
      "text/plain": [
       "F    71389\n",
       "M    38416\n",
       "Name: Gender, dtype: int64"
      ]
     },
     "execution_count": 33,
     "metadata": {},
     "output_type": "execute_result"
    }
   ],
   "source": [
    "df.Gender.value_counts()"
   ]
  },
  {
   "cell_type": "markdown",
   "metadata": {},
   "source": [
    ">In this dataset, the gender proportion is **Female : Male = 7 : 3**.<br>\n",
    "When simply looking at this result, female go to see a doctor more than male.<br>\n",
    "In Brazil, do wemen tend to get sick more than men by any chance? Let's check it out.\n",
    "\n",
    ">I will focus on the sick people group by gender, and whole dataset as well."
   ]
  },
  {
   "cell_type": "code",
   "execution_count": 34,
   "metadata": {},
   "outputs": [
    {
     "data": {
      "image/png": "[encoded data removed]",
      "text/plain": [
       "<Figure size 432x288 with 1 Axes>"
      ]
     },
     "metadata": {},
     "output_type": "display_data"
    }
   ],
   "source": [
    "whole = df.groupby('Gender').count()['Age'] / df.shape[0]\n",
    "sick_people = sick.groupby('Gender').count()['Age'] / sick.shape[0]\n",
    "\n",
    "plt.bar(ind, whole, width, label='Whole')\n",
    "plt.bar(ind+width+0.01, sick_people, width, label='Sick People')\n",
    "label=['Female', 'Male']\n",
    "plt.xticks(locations, label)\n",
    "plt.title('Do Female Tend To Get Sick More Than Male?')\n",
    "plt.legend();"
   ]
  },
  {
   "cell_type": "markdown",
   "metadata": {},
   "source": [
    ">According to the data above, wemen have a little bit more proportion of sick than male.<br>\n",
    "There might be something, but the difference is very small.<br>\n",
    "I want to conclude the reason why wemen came to the hospitals more is because they are more careful about their own health than male."
   ]
  },
  {
   "cell_type": "markdown",
   "metadata": {},
   "source": [
    "<a id=\"six\"></a>\n",
    "### 6. Scholarship and Presence\n",
    ">In Brazil, there is a living protection benefit system for the poor. That name is **Bolsa Familia**.<br>\n",
    "In this dataset 'Scholarship' column means if people took this benefit system or not.<br>\n",
    "\n",
    ">So I will see how difference there is between those who took this system and those who not."
   ]
  },
  {
   "cell_type": "code",
   "execution_count": 35,
   "metadata": {},
   "outputs": [],
   "source": [
    "scholar = df.query('Scholarship == 1')\n",
    "non_scholar = df.query('Scholarship == 0')"
   ]
  },
  {
   "cell_type": "code",
   "execution_count": 36,
   "metadata": {},
   "outputs": [
    {
     "data": {
      "image/png": "[encoded data removed]",
      "text/plain": [
       "<Figure size 432x288 with 1 Axes>"
      ]
     },
     "metadata": {},
     "output_type": "display_data"
    }
   ],
   "source": [
    "# Check presence rate by taking scholarship or not.\n",
    "\n",
    "scholar_show = scholar.NoShow.value_counts() / scholar.shape[0]\n",
    "non_scholar_show = non_scholar.NoShow.value_counts() / non_scholar.shape[0]\n",
    "\n",
    "plt.bar(ind, scholar_show, width, label='Scholarship')\n",
    "plt.bar(ind+width2, non_scholar_show, width, label='Non Scholarship')\n",
    "\n",
    "plt.title('Proportion of Scholarship and Presence')\n",
    "plt.xticks(locations, label)\n",
    "plt.legend();"
   ]
  },
  {
   "cell_type": "markdown",
   "metadata": {},
   "source": [
    ">People who do not take the scholarship tend to come to the hospitals, while the scholarship people do not slightly.<br>\n",
    "Is it because by getting money by Bolsa Familia, their living standard got better, and they got room in their mind to skip the reservations?<br> \n",
    "I am not sure the truth... But I chose this is the reason."
   ]
  },
  {
   "cell_type": "markdown",
   "metadata": {},
   "source": [
    "<a id=\"seven\"></a>\n",
    "### 7. Those Who Apply All\n",
    "\n",
    ">This is the last question from me.<br>\n",
    "For now Investigated six queries, I found there were some differences and most of them were small ones.<br>\n",
    "But I am sure they have a power of pretending the feature of patients come their diagnosis day or not.<br><br>\n",
    "In this section, I want to check the presence rate of the people who showed 'Not Show' in all six analyzing above.<br>\n",
    "I think if this data showed bigger difference compared to the whole dataset, it could be a clue of prediction."
   ]
  },
  {
   "cell_type": "code",
   "execution_count": 37,
   "metadata": {},
   "outputs": [],
   "source": [
    "# Extract the data that apply less presence in all six analyzing above.\n",
    "apply_all = health.query('Gender == \"M\" and SMS_received == 0 and DayInterval >= 4 and Age <= 37 and Scholarship == 1')"
   ]
  },
  {
   "cell_type": "code",
   "execution_count": 38,
   "metadata": {},
   "outputs": [
    {
     "data": {
      "image/png": "[encoded data removed]",
      "text/plain": [
       "<Figure size 432x288 with 1 Axes>"
      ]
     },
     "metadata": {},
     "output_type": "display_data"
    }
   ],
   "source": [
    "#Display the data comparing to the whole dataset.\n",
    "\n",
    "whole_data = df.NoShow.value_counts() / df.shape[0]\n",
    "conclusion = apply_all.NoShow.value_counts() / apply_all.shape[0]\n",
    "\n",
    "plt.bar(ind + width, whole_data, width-0.01, label='Whole', color='gray', alpha=0.2)\n",
    "plt.bar(ind, conclusion, width-0.01, label='Applied All', color='orange')\n",
    "\n",
    "plt.ylabel('Proportion')\n",
    "plt.xlabel('Presence')\n",
    "plt.title('Proportion by Presence')\n",
    "labels = ['Show', 'Not Show']\n",
    "plt.xticks(locations, labels)\n",
    "\n",
    "plt.legend();"
   ]
  },
  {
   "cell_type": "code",
   "execution_count": 40,
   "metadata": {},
   "outputs": [
    {
     "data": {
      "text/plain": [
       "No     0.61165\n",
       "Yes    0.38835\n",
       "Name: NoShow, dtype: float64"
      ]
     },
     "execution_count": 40,
     "metadata": {},
     "output_type": "execute_result"
    }
   ],
   "source": [
    "#The proportion of orange data\n",
    "apply_all.NoShow.value_counts() / apply_all.shape[0]"
   ]
  },
  {
   "cell_type": "markdown",
   "metadata": {},
   "source": [
    ">Almost **39%** patients did not come to the hospitals!<br>\n",
    "Because the 'Not Show' proportion of the whole data is about **20%**, I can say this **19%** difference is big one."
   ]
  },
  {
   "cell_type": "markdown",
   "metadata": {},
   "source": [
    "<a id='conclusions'></a>\n",
    "## Conclusions"
   ]
  },
  {
   "cell_type": "markdown",
   "metadata": {
    "collapsed": true
   },
   "source": [
    ">In my research, people who apply below contents have high probability to be absent from the hospital even if they made reservations.\n",
    "><ul>\n",
    "    <li>Male</li>\n",
    "    <li>Not SMS receiver</li>\n",
    "    <li>Made reservation 9days or more before diagnosis</li>\n",
    "    <li>Health</li>\n",
    "    <li>Under 37 years old</li>\n",
    "    <li>Take Scholarship 'Bolsa Familia'</li>\n",
    "</ul>\n",
    "And the absent rate of the people who apply all of above was 39%, compared to the whole data showed 20%."
   ]
  },
  {
   "cell_type": "markdown",
   "metadata": {},
   "source": [
    "Regarding these result, I guessed several things below.<br>\n",
    "It is hard to judge why people got Bolsa Familia tend not to come to the hospital, but it might be because they got room in their mind by getting their living standard better.\n",
    "And I guess showing hospital rate could be better if the hospitals reccomend to make reservations within 9days and to receive SMS more. The SMS receiver was defined people who got SMS once or more, but I wonder how often that messages would be sent. Maybe they should think again when to send SMS because it does not work so far. Also, I wanted to know the information about if the patients have their smart phone or not. It means I thought I need to know some information about people who do not have their phone, if they wanted to have.<br><br>\n",
    "I can not give some causations by those analyzing, but it is sure that:<br>\n",
    "**People who are male, do not receive SMS, health, under 37 years old, and got Bolsa Familia, have comparatively high probability of not showing that day of diagnosis.**"
   ]
  }
 ],
 "metadata": {
  "kernelspec": {
   "display_name": "Python 3",
   "language": "python",
   "name": "python3"
  },
  "language_info": {
   "codemirror_mode": {
    "name": "ipython",
    "version": 3
   },
   "file_extension": ".py",
   "mimetype": "text/x-python",
   "name": "python",
   "nbconvert_exporter": "python",
   "pygments_lexer": "ipython3",
   "version": "3.6.5"
  }
 },
 "nbformat": 4,
 "nbformat_minor": 2
}
